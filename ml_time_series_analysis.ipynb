{
 "cells": [
  {
   "cell_type": "markdown",
   "id": "77ff94d3",
   "metadata": {},
   "source": [
    "## Database Management and Machine learning with SQL and Python <a id=topic#></a>"
   ]
  },
  {
   "cell_type": "markdown",
   "id": "0e49e83a",
   "metadata": {},
   "source": [
    "This project **demonstrates** mastery and my application of the following skills: \n",
    "\n",
    "- Database Management with SQL ✅\n",
    "\n",
    "- Exploratory Data Analysis ✅\n",
    "\n",
    "- Hypothesis testing using statistics ✅\n",
    "\n",
    "- Building ML Pipelines  ✅\n",
    "\n",
    "- Feature Engineering ✅\n",
    "\n",
    "- Feature Selection ✅\n",
    "\n",
    "- Implementation of ML algorithms (Supervised and Unsupervised Learning) ✅\n",
    "\n",
    "- Building Deep Neural Nets ✅\n",
    "\n",
    "- Code Documentation ✅"
   ]
  },
  {
   "cell_type": "markdown",
   "id": "f1830a0a",
   "metadata": {},
   "source": [
    "### Project Overview\n",
    "\n",
    "The dataset is from a car-sharing company. It contains information about the customers’ demand rate between January 2017 and August 2018. \n",
    "\n",
    "The data were collected on an hourly basis and included the time data such as date, hour, and season as well as weather data such as the weather condition, temperature, humidity, and wind speed. The ‘demand’ column represents the customer’s willingness for renting a car for a specific time. \n",
    "\n",
    ">Higher demand rates show that customers are more willing to rent a car and vice versa.\n",
    "\n",
    "This project consists of two parts. \n",
    "\n",
    "1. The first part is __Database Management__. It includes preparing a local database using SQLite for the data and creating relevant tables \n",
    "\n",
    "2. Part 2 involves data analytics tasks using **Exploratory Data Analysis (EDA)** techniques, **Statistics**, and **Machine Learning** algorithms (including Neural Nets).\n",
    "\n",
    "\n",
    "- This notebooks follows the format of writing code using progressive prompts (see [credits](#topic10))\n",
    "- Utilise the table of contents below to quickly navigate this notebook"
   ]
  },
  {
   "cell_type": "markdown",
   "id": "92b8e197",
   "metadata": {},
   "source": [
    "### Table of Contents <a id=content></a>\n",
    "\n",
    "\n",
    "1. [Loading Data](#topic1)\n",
    "2. [Data Management Tasks with SQL](#topic2)\n",
    "3. [Data Cleaning & Analytics Tasks with Python](#topic3)\n",
    "4. [Statistical Tests](#topic4)\n",
    "5. [Test for seasonality](#topic5)\n",
    "6. [Building Supervised Learning models](#topic6)\n",
    "7. [Bulding Neural Nets](#topic7)\n",
    "8. [Building Classification Models](#topic8)\n",
    "9. [Building Unsupervised Models](#topic9)\n",
    "10. [Credits](#topic10)"
   ]
  },
  {
   "cell_type": "markdown",
   "id": "69b9e91b",
   "metadata": {},
   "source": [
    "### Loading Data <a id=topic1></a>"
   ]
  },
  {
   "cell_type": "code",
   "execution_count": 142,
   "id": "0eb4ec18",
   "metadata": {},
   "outputs": [],
   "source": [
    "#install sqlalchemy if not already installed\n",
    "# !pip install sqlalchemy "
   ]
  },
  {
   "cell_type": "code",
   "execution_count": 143,
   "id": "bd8b249d",
   "metadata": {},
   "outputs": [],
   "source": [
    "#import the needed libraries\n",
    "import pandas as pd\n",
    "import sqlalchemy\n",
    "from sqlalchemy import create_engine, text"
   ]
  },
  {
   "cell_type": "code",
   "execution_count": 144,
   "id": "4f29a50f",
   "metadata": {},
   "outputs": [],
   "source": [
    "# load the csv file into a pandas dataframe\n",
    "\n",
    "car_sharing = pd.read_csv('CarSharing.csv')"
   ]
  },
  {
   "cell_type": "code",
   "execution_count": 145,
   "id": "7458019c",
   "metadata": {
    "scrolled": true
   },
   "outputs": [
    {
     "data": {
      "text/html": [
       "<div>\n",
       "<style scoped>\n",
       "    .dataframe tbody tr th:only-of-type {\n",
       "        vertical-align: middle;\n",
       "    }\n",
       "\n",
       "    .dataframe tbody tr th {\n",
       "        vertical-align: top;\n",
       "    }\n",
       "\n",
       "    .dataframe thead th {\n",
       "        text-align: right;\n",
       "    }\n",
       "</style>\n",
       "<table border=\"1\" class=\"dataframe\">\n",
       "  <thead>\n",
       "    <tr style=\"text-align: right;\">\n",
       "      <th></th>\n",
       "      <th>id</th>\n",
       "      <th>timestamp</th>\n",
       "      <th>season</th>\n",
       "      <th>holiday</th>\n",
       "      <th>workingday</th>\n",
       "      <th>weather</th>\n",
       "      <th>temp</th>\n",
       "      <th>temp_feel</th>\n",
       "      <th>humidity</th>\n",
       "      <th>windspeed</th>\n",
       "      <th>demand</th>\n",
       "    </tr>\n",
       "  </thead>\n",
       "  <tbody>\n",
       "    <tr>\n",
       "      <th>0</th>\n",
       "      <td>1</td>\n",
       "      <td>2017-01-01 00:00:00</td>\n",
       "      <td>spring</td>\n",
       "      <td>No</td>\n",
       "      <td>No</td>\n",
       "      <td>Clear or partly cloudy</td>\n",
       "      <td>9.84</td>\n",
       "      <td>14.395</td>\n",
       "      <td>81.0</td>\n",
       "      <td>0.0</td>\n",
       "      <td>2.772589</td>\n",
       "    </tr>\n",
       "    <tr>\n",
       "      <th>1</th>\n",
       "      <td>2</td>\n",
       "      <td>2017-01-01 01:00:00</td>\n",
       "      <td>spring</td>\n",
       "      <td>No</td>\n",
       "      <td>No</td>\n",
       "      <td>Clear or partly cloudy</td>\n",
       "      <td>9.02</td>\n",
       "      <td>13.635</td>\n",
       "      <td>80.0</td>\n",
       "      <td>0.0</td>\n",
       "      <td>3.688879</td>\n",
       "    </tr>\n",
       "    <tr>\n",
       "      <th>2</th>\n",
       "      <td>3</td>\n",
       "      <td>2017-01-01 02:00:00</td>\n",
       "      <td>spring</td>\n",
       "      <td>No</td>\n",
       "      <td>No</td>\n",
       "      <td>Clear or partly cloudy</td>\n",
       "      <td>9.02</td>\n",
       "      <td>13.635</td>\n",
       "      <td>80.0</td>\n",
       "      <td>0.0</td>\n",
       "      <td>3.465736</td>\n",
       "    </tr>\n",
       "    <tr>\n",
       "      <th>3</th>\n",
       "      <td>4</td>\n",
       "      <td>2017-01-01 03:00:00</td>\n",
       "      <td>spring</td>\n",
       "      <td>No</td>\n",
       "      <td>No</td>\n",
       "      <td>Clear or partly cloudy</td>\n",
       "      <td>9.84</td>\n",
       "      <td>14.395</td>\n",
       "      <td>75.0</td>\n",
       "      <td>0.0</td>\n",
       "      <td>2.564949</td>\n",
       "    </tr>\n",
       "    <tr>\n",
       "      <th>4</th>\n",
       "      <td>5</td>\n",
       "      <td>2017-01-01 04:00:00</td>\n",
       "      <td>spring</td>\n",
       "      <td>No</td>\n",
       "      <td>No</td>\n",
       "      <td>Clear or partly cloudy</td>\n",
       "      <td>9.84</td>\n",
       "      <td>14.395</td>\n",
       "      <td>75.0</td>\n",
       "      <td>0.0</td>\n",
       "      <td>0.000000</td>\n",
       "    </tr>\n",
       "  </tbody>\n",
       "</table>\n",
       "</div>"
      ],
      "text/plain": [
       "   id            timestamp  season holiday workingday                 weather  \\\n",
       "0   1  2017-01-01 00:00:00  spring      No         No  Clear or partly cloudy   \n",
       "1   2  2017-01-01 01:00:00  spring      No         No  Clear or partly cloudy   \n",
       "2   3  2017-01-01 02:00:00  spring      No         No  Clear or partly cloudy   \n",
       "3   4  2017-01-01 03:00:00  spring      No         No  Clear or partly cloudy   \n",
       "4   5  2017-01-01 04:00:00  spring      No         No  Clear or partly cloudy   \n",
       "\n",
       "   temp  temp_feel  humidity  windspeed    demand  \n",
       "0  9.84     14.395      81.0        0.0  2.772589  \n",
       "1  9.02     13.635      80.0        0.0  3.688879  \n",
       "2  9.02     13.635      80.0        0.0  3.465736  \n",
       "3  9.84     14.395      75.0        0.0  2.564949  \n",
       "4  9.84     14.395      75.0        0.0  0.000000  "
      ]
     },
     "execution_count": 145,
     "metadata": {},
     "output_type": "execute_result"
    }
   ],
   "source": [
    "car_sharing.head() #preview the data"
   ]
  },
  {
   "cell_type": "code",
   "execution_count": 146,
   "id": "6007b626",
   "metadata": {},
   "outputs": [
    {
     "name": "stdout",
     "output_type": "stream",
     "text": [
      "<class 'pandas.core.frame.DataFrame'>\n",
      "RangeIndex: 8708 entries, 0 to 8707\n",
      "Data columns (total 11 columns):\n",
      " #   Column      Non-Null Count  Dtype  \n",
      "---  ------      --------------  -----  \n",
      " 0   id          8708 non-null   int64  \n",
      " 1   timestamp   8708 non-null   object \n",
      " 2   season      8708 non-null   object \n",
      " 3   holiday     8708 non-null   object \n",
      " 4   workingday  8708 non-null   object \n",
      " 5   weather     8708 non-null   object \n",
      " 6   temp        7506 non-null   float64\n",
      " 7   temp_feel   8606 non-null   float64\n",
      " 8   humidity    8669 non-null   float64\n",
      " 9   windspeed   8508 non-null   float64\n",
      " 10  demand      8708 non-null   float64\n",
      "dtypes: float64(5), int64(1), object(5)\n",
      "memory usage: 748.5+ KB\n"
     ]
    }
   ],
   "source": [
    "car_sharing.info()"
   ]
  },
  {
   "cell_type": "code",
   "execution_count": 147,
   "id": "789305a2",
   "metadata": {},
   "outputs": [
    {
     "name": "stdout",
     "output_type": "stream",
     "text": [
      "<class 'pandas.core.frame.DataFrame'>\n",
      "RangeIndex: 8708 entries, 0 to 8707\n",
      "Data columns (total 11 columns):\n",
      " #   Column      Non-Null Count  Dtype  \n",
      "---  ------      --------------  -----  \n",
      " 0   id          8708 non-null   int64  \n",
      " 1   timestamp   8708 non-null   object \n",
      " 2   season      8708 non-null   object \n",
      " 3   holiday     8708 non-null   object \n",
      " 4   workingday  8708 non-null   object \n",
      " 5   weather     8708 non-null   object \n",
      " 6   temp        7506 non-null   float64\n",
      " 7   temp_feel   8606 non-null   float64\n",
      " 8   humidity    8669 non-null   float64\n",
      " 9   windspeed   8508 non-null   float64\n",
      " 10  demand      8708 non-null   float64\n",
      "dtypes: float64(5), int64(1), object(5)\n",
      "memory usage: 748.5+ KB\n"
     ]
    }
   ],
   "source": [
    "car_sharing.info()"
   ]
  },
  {
   "cell_type": "markdown",
   "id": "eba33a7a",
   "metadata": {},
   "source": [
    "### __Data Management Tasks__ <a id=topic2></a>\n",
    "\n",
    "See [table of contents](#content)\n",
    "\n",
    "#### 1. Create an SQLite database and import the data into a table named “CarSharing”. Create a backup table and copy the whole table into it"
   ]
  },
  {
   "cell_type": "code",
   "execution_count": 148,
   "id": "a56f022b",
   "metadata": {},
   "outputs": [
    {
     "data": {
      "text/plain": [
       "8708"
      ]
     },
     "execution_count": 148,
     "metadata": {},
     "output_type": "execute_result"
    }
   ],
   "source": [
    "# create the SQLite database engine\n",
    "engine = create_engine('sqlite:///car_share.db')\n",
    "\n",
    "# import the dataframe into the SQLite database\n",
    "car_sharing.to_sql('CarSharing', engine, index=False, if_exists = 'replace')"
   ]
  },
  {
   "cell_type": "code",
   "execution_count": 149,
   "id": "6876d9da",
   "metadata": {},
   "outputs": [],
   "source": [
    "# copy the data into a backup table in the database\n",
    "\n",
    "with engine.connect() as conn:\n",
    "    conn.execute('''CREATE TABLE CarSharing_copy AS\n",
    "                    SELECT *                            \n",
    "                    FROM CarSharing''')"
   ]
  },
  {
   "cell_type": "markdown",
   "id": "e60d8c71",
   "metadata": {},
   "source": [
    "#### 2. Add a column to the CarSharing table named “temp_category”. \n",
    "\n",
    "> This column should contain three string values. \n",
    "\n",
    "- If the “feels-like” temperature is less than 10 then the corresponding value in the temp_category column should be “Cold” \n",
    "- If the feels-like temperature is between 10 and 25, the value should be “Mild”, and \n",
    "- If the feels-like temperature is greater than 25, then the value should be “Hot”."
   ]
  },
  {
   "cell_type": "code",
   "execution_count": 150,
   "id": "715cf7cb",
   "metadata": {},
   "outputs": [],
   "source": [
    "# add column to CarSharing called temp_category\n",
    "with engine.connect() as conn:\n",
    "    conn.execute('''ALTER TABLE CarSharing \n",
    "                    ADD COLUMN temp_category VARCHAR(255)''')\n",
    "    \n",
    "    #set value categories to different temp_feel ranges\n",
    "    conn.execute('''UPDATE CarSharing \n",
    "                    SET temp_category = CASE WHEN temp_feel < 10 THEN 'Cold' \n",
    "                    WHEN temp_feel BETWEEN 10 AND 25 THEN 'Mild' \n",
    "                    ELSE 'Hot' END''')"
   ]
  },
  {
   "cell_type": "markdown",
   "id": "a174ba1f",
   "metadata": {},
   "source": [
    "#### 3. Create another table named “temperature” by selecting the temp, temp_feel, and temp_category columns. \n",
    "Then drop the temp and temp_feel columns from the CarSharing\n",
    "table."
   ]
  },
  {
   "cell_type": "code",
   "execution_count": 151,
   "id": "4f28224b",
   "metadata": {},
   "outputs": [],
   "source": [
    "with engine.connect() as conn:\n",
    "    # create a new table 'temperature' with only the columns temp, temp_feel, and temp_category\n",
    "    conn.execute('''CREATE TABLE temperature AS\n",
    "                    SELECT temp, temp_feel, temp_category\n",
    "                    FROM CarSharing''')"
   ]
  },
  {
   "cell_type": "code",
   "execution_count": 152,
   "id": "6bf508ab",
   "metadata": {},
   "outputs": [],
   "source": [
    "with engine.connect() as conn:\n",
    "    # drop the temp column\n",
    "    conn.execute('''ALTER TABLE CarSharing\n",
    "                    DROP COLUMN temp;''')\n",
    "\n",
    "with engine.connect() as conn:\n",
    "    # drop the temp_feel column\n",
    "    conn.execute('''ALTER TABLE CarSharing\n",
    "                    DROP COLUMN temp_feel''')"
   ]
  },
  {
   "cell_type": "markdown",
   "id": "1296185b",
   "metadata": {},
   "source": [
    "#### 4. Find the distinct values of the weather column and assign a number to each value. \n",
    "\n",
    "> Add another column named “weather_code” to the table containing each row’s assigned weather code. "
   ]
  },
  {
   "cell_type": "code",
   "execution_count": 153,
   "id": "0f32840a",
   "metadata": {},
   "outputs": [],
   "source": [
    "with engine.connect() as conn:\n",
    "    # add the weather code column to the table\n",
    "    conn.execute('''ALTER TABLE CarSharing\n",
    "                    ADD COLUMN weather_code\n",
    "                     ''')\n",
    "    # find the distinct values in the weather column and add that values to the table\n",
    "    conn.execute('''WITH sub_query AS (\n",
    "                                        SELECT weather, ROW_NUMBER() OVER(ORDER BY weather) weather_code\n",
    "                                        FROM (\n",
    "                                                SELECT DISTINCT weather\n",
    "                                                FROM CarSharing)\n",
    "                                        )\n",
    "                                       \n",
    "                    UPDATE CarSharing\n",
    "                    SET weather_code = sub_query.weather_code\n",
    "                    FROM sub_query\n",
    "                    WHERE CarSharing.weather = sub_query.weather\n",
    "                    ''')"
   ]
  },
  {
   "cell_type": "markdown",
   "id": "f610ec44",
   "metadata": {},
   "source": [
    "#### 5. Create a table called “weather” and copy the columns “weather” and “weather_code” to this table. \n",
    "\n",
    "Then drop the weather column from the CarSharing table. "
   ]
  },
  {
   "cell_type": "code",
   "execution_count": 154,
   "id": "342291ae",
   "metadata": {},
   "outputs": [],
   "source": [
    "with engine.connect() as conn:\n",
    "    \n",
    "    # create the table weather and its columns\n",
    "    conn.execute('''CREATE TABLE weather AS \n",
    "                    SELECT weather, weather_code\n",
    "                    FROM CarSharing\n",
    "                ''')\n",
    "    \n",
    "    # copy the values from CarSharing table into the weather table\n",
    "    conn.execute('''ALTER TABLE CarSharing\n",
    "                    DROP COLUMN weather\n",
    "                    ''')"
   ]
  },
  {
   "cell_type": "markdown",
   "id": "ed76f677",
   "metadata": {},
   "source": [
    "#### 6. Create a table called time with four columns containing each row’s timestamp, hour, weekday name, and month name "
   ]
  },
  {
   "cell_type": "code",
   "execution_count": 155,
   "id": "0986cd04",
   "metadata": {},
   "outputs": [],
   "source": [
    "with engine.connect() as conn:\n",
    "    conn.execute('''CREATE TABLE time AS\n",
    "                    SELECT strftime(\"%Y-%m-%d %H:%M:%S\", timestamp) timestamp, strftime(\"%H\", timestamp) hour, CASE CAST(strftime(\"%w\", timestamp) AS INTEGER)\n",
    "                                                                                                                        WHEN 0 THEN \"Sunday\"\n",
    "                                                                                                                        WHEN 1 THEN \"Monday\"\n",
    "                                                                                                                        WHEN 2 THEN \"Tuesday\"\n",
    "                                                                                                                        WHEN 3 THEN \"Wednesday\"\n",
    "                                                                                                                        WHEN 4 THEN \"Thrusday\"\n",
    "                                                                                                                        WHEN 5 THEN \"Friday\"\n",
    "                                                                                                                        ELSE \"Saturday\" END AS day_name, CASE CAST(strftime(\"%m\", timestamp) AS INTEGER)\n",
    "                                                                                                                                                         WHEN 1 THEN \"January\"\n",
    "                                                                                                                                                         WHEN 2 THEN \"February\"\n",
    "                                                                                                                                                         WHEN 3 THEN \"March\"\n",
    "                                                                                                                                                         WHEN 4 THEN \"April\"\n",
    "                                                                                                                                                         WHEN 5 THEN \"May\"\n",
    "                                                                                                                                                         WHEN 6 THEN \"June\"\n",
    "                                                                                                                                                         WHEN 7 THEN \"July\"\n",
    "                                                                                                                                                         WHEN 8 THEN \"August\"\n",
    "                                                                                                                                                         WHEN 9 THEN \"September\"\n",
    "                                                                                                                                                         WHEN 10 THEN \"October\"\n",
    "                                                                                                                                                         WHEN 11 THEN \"November\"\n",
    "                                                                                                                                                         WHEN 12 THEN \"December\" END AS month_name\n",
    "                    FROM CarSharing''')"
   ]
  },
  {
   "cell_type": "markdown",
   "id": "aad0bbe9",
   "metadata": {},
   "source": [
    "#### 7. Assume it’s the first day you have started working at this company and your boss Linda sends you an email as follows:\n",
    "\n",
    "\n",
    "“Hello, Welcome to the team. I hope you enjoy working at this company.\n",
    "\n",
    "Could you please give me a report containing the following information:\n",
    "\n",
    "a. Please tell me which date and time we had the highest demand rate in 2017."
   ]
  },
  {
   "cell_type": "code",
   "execution_count": 156,
   "id": "a47abada",
   "metadata": {
    "scrolled": true
   },
   "outputs": [
    {
     "name": "stdout",
     "output_type": "stream",
     "text": [
      "             timestamp    demand\n",
      "0  2017-06-15 17:00:00  6.458338\n"
     ]
    }
   ],
   "source": [
    "# which date and time we had the highest demand rate in 2017\n",
    "with engine.connect() as conn:\n",
    "    result = conn.execute('''SELECT timestamp, MAX(demand) demand\n",
    "                    FROM CarSharing\n",
    "                    WHERE timestamp BETWEEN '2017-01-01' AND '2017-12-31'\n",
    "                    ''')\n",
    "    df = pd.DataFrame(result)\n",
    "    print(df)"
   ]
  },
  {
   "cell_type": "markdown",
   "id": "179f0a8e",
   "metadata": {},
   "source": [
    "#### b.  Give me a table containing the name of the weekday, month, and season in which we had the highest and lowest average demand rates throughout 2017. Please include the calculated average demand values as well. "
   ]
  },
  {
   "cell_type": "code",
   "execution_count": 157,
   "id": "1d45e76c",
   "metadata": {
    "scrolled": true
   },
   "outputs": [
    {
     "name": "stdout",
     "output_type": "stream",
     "text": [
      "  day_name month_name  season  avg_demand\n",
      "0   Monday    January  spring    3.050786\n",
      "1   Sunday       July    fall    4.997135\n"
     ]
    }
   ],
   "source": [
    "with engine.connect() as conn:\n",
    "    result = conn.execute('''WITH avg_demand AS (SELECT t.day_name, t.month_name, c.season, AVG(c.demand) avg_demand\n",
    "                                            FROM CarSharing c\n",
    "                                            JOIN time t\n",
    "                                            ON c.timestamp = t.timestamp\n",
    "                                            WHERE t.timestamp BETWEEN '2017-01-01' AND '2017-12-31'\n",
    "                                            GROUP BY 1,2,3\n",
    "                                            ORDER BY 4 DESC\n",
    "                                            )\n",
    "                            \n",
    "                             SELECT av.day_name, av.month_name, av.season, av.avg_demand\n",
    "                             FROM avg_demand av\n",
    "                             WHERE av.avg_demand = (SELECT MIN(av.avg_demand)\n",
    "                                                     FROM avg_demand av) OR av.avg_demand = (SELECT MAX(av.avg_demand)\n",
    "                                                                                             FROM avg_demand av)\n",
    "                             ORDER BY 4 \n",
    "                             \n",
    "                            ''')\n",
    "    df = pd.DataFrame(result)\n",
    "    print(df)"
   ]
  },
  {
   "cell_type": "markdown",
   "id": "1de3aefa",
   "metadata": {},
   "source": [
    "#### c. For the weekday selected in (b), please give me a table showing the average demand rate we had at different hours of that weekday throughout 2017. Please sort the results in descending order based on the average demand rates. "
   ]
  },
  {
   "cell_type": "code",
   "execution_count": 158,
   "id": "97d3f737",
   "metadata": {},
   "outputs": [
    {
     "name": "stdout",
     "output_type": "stream",
     "text": [
      "   hour day_name  avg_demand\n",
      "0    13   Monday    5.643554\n",
      "1    12   Monday    5.621972\n",
      "2    14   Monday    5.554613\n",
      "3    15   Sunday    5.537925\n",
      "4    15   Monday    5.515115\n",
      "5    14   Sunday    5.513703\n",
      "6    16   Monday    5.503753\n",
      "7    16   Sunday    5.496274\n",
      "8    13   Sunday    5.478758\n",
      "9    12   Sunday    5.457459\n",
      "10   11   Monday    5.437365\n",
      "11   17   Monday    5.399252\n",
      "12   17   Sunday    5.367634\n",
      "13   11   Sunday    5.290915\n",
      "14   18   Sunday    5.241212\n",
      "15   10   Monday    5.223831\n",
      "16   18   Monday    5.215943\n",
      "17   10   Sunday    5.074546\n",
      "18   19   Sunday    5.041802\n",
      "19   19   Monday    4.990500\n",
      "20   20   Sunday    4.790666\n",
      "21   20   Monday    4.726986\n",
      "22   09   Sunday    4.683176\n",
      "23   09   Monday    4.638345\n",
      "24   21   Sunday    4.604222\n",
      "25   22   Sunday    4.477620\n",
      "26   21   Monday    4.464856\n",
      "27   23   Sunday    4.346754\n",
      "28   00   Monday    4.230482\n",
      "29   08   Sunday    4.204916\n",
      "30   22   Monday    4.188675\n",
      "31   00   Sunday    4.134974\n",
      "32   01   Monday    3.976929\n",
      "33   08   Monday    3.934944\n",
      "34   01   Sunday    3.869853\n",
      "35   23   Monday    3.799622\n",
      "36   02   Monday    3.768969\n",
      "37   02   Sunday    3.611232\n",
      "38   07   Sunday    3.294024\n",
      "39   03   Monday    3.074058\n",
      "40   07   Monday    3.007593\n",
      "41   03   Sunday    2.770263\n",
      "42   06   Sunday    2.453219\n",
      "43   06   Monday    2.002182\n",
      "44   05   Monday    1.743429\n",
      "45   04   Monday    1.659888\n",
      "46   04   Sunday    1.659227\n",
      "47   05   Sunday    1.649176\n"
     ]
    }
   ],
   "source": [
    "with engine.connect() as conn:\n",
    "    result = conn.execute('''WITH avg_demand AS (SELECT t.day_name, t.month_name, c.season, AVG(c.demand) avg_demand\n",
    "                                            FROM CarSharing c\n",
    "                                            JOIN time t\n",
    "                                            ON c.timestamp = t.timestamp\n",
    "                                            WHERE t.timestamp BETWEEN '2017-01-01' AND '2017-12-31'\n",
    "                                            GROUP BY 1,2,3\n",
    "                                            ORDER BY 4 DESC\n",
    "                                            ),\n",
    "                            \n",
    "                             min_max AS (SELECT av.day_name, av.month_name, av.season, av.avg_demand\n",
    "                             FROM avg_demand av\n",
    "                             WHERE av.avg_demand = (SELECT MIN(av.avg_demand)\n",
    "                                                     FROM avg_demand av) OR av.avg_demand = (SELECT MAX(av.avg_demand)\n",
    "                                                                                             FROM avg_demand av)\n",
    "                             ORDER BY 4), \n",
    "                             \n",
    "                             min_max_day AS (SELECT day_name\n",
    "                                             FROM min_max)\n",
    "                             \n",
    "                            SELECT t.hour, t.day_name, AVG(c.demand) avg_demand\n",
    "                            FROM CarSharing c\n",
    "                            JOIN time t\n",
    "                            ON c.timestamp = t.timestamp \n",
    "                            WHERE t.day_name IN min_max_day AND c.timestamp BETWEEN '2017-01-01' AND '2017-12-31'\n",
    "                            GROUP BY 1,2\n",
    "                            ORDER BY 3 DESC\n",
    "                            ''')\n",
    "    df = pd.DataFrame(result)\n",
    "    print(df)"
   ]
  },
  {
   "cell_type": "markdown",
   "id": "fb95f61f",
   "metadata": {},
   "source": [
    "#### d. Please tell me what the weather was like in 2017. Was it mostly cold, mild, or hot?\n",
    "\n",
    "- Which weather condition (shown in the weather column) was the most prevalent in 2017? \n",
    "\n",
    "- What was the average, highest, and lowest wind speed and humidity for each month in 2017? \n",
    "\n",
    "Please organise this information in two tables for the wind speed and humidity. \n",
    "\n",
    "- Please also give me a table showing the average demand rate for each cold, mild, and hot weather in 2017 sorted in descending order based on their average demand rates. "
   ]
  },
  {
   "cell_type": "code",
   "execution_count": 159,
   "id": "d7eabd37",
   "metadata": {},
   "outputs": [
    {
     "name": "stdout",
     "output_type": "stream",
     "text": [
      "                  weather     count\n",
      "0  Clear or partly cloudy  20989214\n",
      "1                    Mist   2925972\n",
      "2      Light snow or rain    334411\n"
     ]
    }
   ],
   "source": [
    "with engine.connect() as conn:\n",
    "    result = conn.execute('''SELECT w.weather, COUNT(*) count\n",
    "                            FROM weather  w\n",
    "                            JOIN CarSharing c\n",
    "                            ON w.weather_code = c.weather_code AND c.timestamp BETWEEN '2017-01-01' AND '2017-12-31'\n",
    "                            GROUP BY 1\n",
    "                            ORDER BY 2 DESC\n",
    "                            \n",
    "                            ''')\n",
    "    df = pd.DataFrame(result)\n",
    "    print(df)"
   ]
  },
  {
   "cell_type": "code",
   "execution_count": 160,
   "id": "ceffe8d3",
   "metadata": {},
   "outputs": [
    {
     "name": "stdout",
     "output_type": "stream",
     "text": [
      "   month_name  avg_windspeed  min_windspeed  max_windspeed\n",
      "0       April      15.852275            0.0        40.9973\n",
      "1      August      12.411122            0.0        43.0006\n",
      "2    December      10.836460            0.0        43.0006\n",
      "3    February      15.577717            0.0        51.9987\n",
      "4     January      13.748052            0.0        39.0007\n",
      "5        July      12.015846            0.0        56.9969\n",
      "6        June      11.827618            0.0        35.0008\n",
      "7       March      15.974884            0.0        40.9973\n",
      "8         May      12.427391            0.0        40.9973\n",
      "9    November      12.142271            0.0        36.9974\n",
      "10    October      10.892052            0.0        36.9974\n",
      "11  September      11.564080            0.0        40.9973\n",
      "\n",
      "\n",
      "   month_name  avg_humidity  min_humidity  max_humidity\n",
      "0       April     66.248899          22.0         100.0\n",
      "1      August     62.173626          25.0          94.0\n",
      "2    December     65.180617          26.0         100.0\n",
      "3    February     53.580717           8.0         100.0\n",
      "4     January     56.307692          28.0         100.0\n",
      "5        July     60.292035          17.0          94.0\n",
      "6        June     58.370861          20.0         100.0\n",
      "7       March     55.997753           0.0         100.0\n",
      "8         May     71.371429          24.0         100.0\n",
      "9    November     64.169231          27.0         100.0\n",
      "10    October     71.571429          29.0         100.0\n",
      "11  September     74.840355          42.0         100.0\n"
     ]
    }
   ],
   "source": [
    "with engine.connect() as conn:\n",
    "    wind_result = conn.execute('''SELECT t.month_name, AVG(c.windspeed) avg_windspeed, MIN(c.windspeed) min_windspeed, MAX(c.windspeed) max_windspeed\n",
    "                            FROM CarSharing c\n",
    "                            JOIN time t\n",
    "                            ON t.timestamp = c.timestamp AND t.timestamp BETWEEN '2017-01-01' AND '2017-12-31'\n",
    "                            GROUP BY 1\n",
    "                            ''')\n",
    "    humidity_result = conn.execute('''SELECT t.month_name, AVG(c. humidity) avg_humidity, MIN(c. humidity) min_humidity, MAX(c. humidity) max_humidity\n",
    "                                    FROM CarSharing c\n",
    "                                    JOIN time t\n",
    "                                    ON t.timestamp = c.timestamp AND t.timestamp BETWEEN '2017-01-01' AND '2017-12-31'\n",
    "                                    GROUP BY 1\n",
    "                                    ''')\n",
    "    df1 = pd.DataFrame(wind_result)\n",
    "    df2 = pd.DataFrame(humidity_result)\n",
    "    print(df1)\n",
    "    print('\\n')\n",
    "    print(df2)"
   ]
  },
  {
   "cell_type": "code",
   "execution_count": 161,
   "id": "cca3e722",
   "metadata": {},
   "outputs": [
    {
     "name": "stdout",
     "output_type": "stream",
     "text": [
      "  temp_category  avg_demand\n",
      "0           Hot    4.774353\n",
      "1          Mild    4.021015\n",
      "2          Cold    3.190253\n"
     ]
    }
   ],
   "source": [
    "with engine.connect() as conn:\n",
    "    result = conn.execute('''SELECT temp_category, AVG(demand) avg_demand\n",
    "                            FROM CarSharing \n",
    "                            WHERE timestamp BETWEEN '2017-01-01' AND '2017-12-31'\n",
    "                            GROUP BY 1\n",
    "                            ORDER BY 2 DESC\n",
    "                        ''')\n",
    "    df = pd.DataFrame(result)\n",
    "    print(df.head())"
   ]
  },
  {
   "cell_type": "markdown",
   "id": "e4c35e84",
   "metadata": {},
   "source": [
    "#### e. Give me another table showing the information requested in (d) for the month we had the highest average demand rate in 2017 so that I can compare it with other months"
   ]
  },
  {
   "cell_type": "code",
   "execution_count": 162,
   "id": "0147d652",
   "metadata": {},
   "outputs": [
    {
     "name": "stdout",
     "output_type": "stream",
     "text": [
      "                  weather    count\n",
      "0  Clear or partly cloudy  2261188\n",
      "1                    Mist   119952\n",
      "2      Light snow or rain     9898\n"
     ]
    }
   ],
   "source": [
    "with engine.connect() as conn:\n",
    "    result = conn.execute('''WITH monthly_demand AS (SELECT  strftime('%m', timestamp) month, AVG(demand) avg_demand\n",
    "                                                     FROM CarSharing \n",
    "                                                     WHERE timestamp BETWEEN '2017-01-01' AND '2017-12-31'\n",
    "                                                     GROUP BY 1\n",
    "                                                     )\n",
    "                            \n",
    "                            SELECT w.weather, COUNT(*) count\n",
    "                            FROM weather  w\n",
    "                            JOIN CarSharing c\n",
    "                            ON w.weather_code = c.weather_code AND c.timestamp BETWEEN '2017-01-01' AND '2017-12-31'\n",
    "                            WHERE strftime('%m', timestamp) = (SELECT month\n",
    "                                                   FROM monthly_demand\n",
    "                                                   WHERE avg_demand = (SELECT MAX(avg_demand)\n",
    "                                                                       FROM monthly_demand)\n",
    "                                                    )\n",
    "                            GROUP BY 1\n",
    "                            ORDER BY 2 DESC                   \n",
    "                        ''')\n",
    "    df = pd.DataFrame(result)\n",
    "    print(df.head())"
   ]
  },
  {
   "cell_type": "code",
   "execution_count": 163,
   "id": "9d9f707f",
   "metadata": {},
   "outputs": [
    {
     "name": "stdout",
     "output_type": "stream",
     "text": [
      "  month_name  avg_windspeed  min_windspeed  max_windspeed\n",
      "0       July      12.015846            0.0        56.9969\n"
     ]
    }
   ],
   "source": [
    "with engine.connect() as conn:\n",
    "    wind_result = conn.execute('''WITH monthly_demand AS (SELECT  strftime('%m', timestamp) month, AVG(demand) avg_demand\n",
    "                                                     FROM CarSharing \n",
    "                                                     WHERE timestamp BETWEEN '2017-01-01' AND '2017-12-31'\n",
    "                                                     GROUP BY 1\n",
    "                                                     )\n",
    "                            \n",
    "                            SELECT t.month_name, AVG(c.windspeed) avg_windspeed, MIN(c.windspeed) min_windspeed, MAX(c.windspeed) max_windspeed\n",
    "                            FROM CarSharing c\n",
    "                            JOIN time t\n",
    "                            ON t.timestamp = c.timestamp AND t.timestamp BETWEEN '2017-01-01' AND '2017-12-31'\n",
    "                            WHERE strftime('%m', t.timestamp) = (SELECT month\n",
    "                                                               FROM monthly_demand\n",
    "                                                               WHERE avg_demand = (SELECT MAX(avg_demand)\n",
    "                                                                                   FROM monthly_demand)\n",
    "                                                                )\n",
    "                            GROUP BY 1\n",
    "                            \n",
    "                                      \n",
    "                        ''')\n",
    "    df = pd.DataFrame(wind_result)\n",
    "    print(df)"
   ]
  },
  {
   "cell_type": "code",
   "execution_count": 164,
   "id": "7c3fe9cd",
   "metadata": {},
   "outputs": [
    {
     "name": "stdout",
     "output_type": "stream",
     "text": [
      "  month_name  avg_humidity  min_humidity  max_humidity\n",
      "0       July     60.292035          17.0          94.0\n"
     ]
    }
   ],
   "source": [
    "with engine.connect() as conn:\n",
    "    wind_result = conn.execute('''WITH monthly_demand AS (SELECT  strftime('%m', timestamp) month, AVG(demand) avg_demand\n",
    "                                                     FROM CarSharing \n",
    "                                                     WHERE timestamp BETWEEN '2017-01-01' AND '2017-12-31'\n",
    "                                                     GROUP BY 1\n",
    "                                                     )\n",
    "                            \n",
    "                            SELECT t.month_name, AVG(c. humidity) avg_humidity, MIN(c. humidity) min_humidity, MAX(c. humidity) max_humidity\n",
    "                            FROM CarSharing c\n",
    "                            JOIN time t\n",
    "                            ON t.timestamp = c.timestamp AND t.timestamp BETWEEN '2017-01-01' AND '2017-12-31'\n",
    "                            WHERE strftime('%m', t.timestamp) = (SELECT month\n",
    "                                                               FROM monthly_demand\n",
    "                                                               WHERE avg_demand = (SELECT MAX(avg_demand)\n",
    "                                                                                   FROM monthly_demand)\n",
    "                                                                )\n",
    "                            GROUP BY 1\n",
    "                            \n",
    "                                      \n",
    "                        ''')\n",
    "    df = pd.DataFrame(wind_result)\n",
    "    print(df)"
   ]
  },
  {
   "cell_type": "code",
   "execution_count": 165,
   "id": "94fecedf",
   "metadata": {},
   "outputs": [
    {
     "name": "stdout",
     "output_type": "stream",
     "text": [
      "  temp_category  avg_demand\n",
      "0           Hot    4.787655\n"
     ]
    }
   ],
   "source": [
    "with engine.connect() as conn:\n",
    "    result = conn.execute('''WITH monthly_demand AS (SELECT  strftime('%m', timestamp) month, AVG(demand) avg_demand\n",
    "                                                     FROM CarSharing \n",
    "                                                     WHERE timestamp BETWEEN '2017-01-01' AND '2017-12-31'\n",
    "                                                     GROUP BY 1\n",
    "                                                     )\n",
    "                                                     \n",
    "                            SELECT temp_category, AVG(demand) avg_demand\n",
    "                            FROM CarSharing \n",
    "                            WHERE timestamp BETWEEN '2017-01-01' AND '2017-12-31' AND strftime('%m', timestamp) = (SELECT month\n",
    "                                                                                                                   FROM monthly_demand\n",
    "                                                                                                                   WHERE avg_demand = (SELECT MAX(avg_demand)\n",
    "                                                                                                                                       FROM monthly_demand)\n",
    "                                                                                                                    )\n",
    "                            GROUP BY 1\n",
    "                            ORDER BY 2 DESC\n",
    "                        ''')\n",
    "    df = pd.DataFrame(result)\n",
    "    print(df.head())"
   ]
  },
  {
   "cell_type": "markdown",
   "id": "e5231d26",
   "metadata": {},
   "source": [
    "### Data Analytics <a id=topic3></a>\n",
    "\n",
    "See [table of contents](#content)"
   ]
  },
  {
   "cell_type": "code",
   "execution_count": 5,
   "id": "7cd5871c",
   "metadata": {},
   "outputs": [],
   "source": [
    "# import the necessary packages and libraries\n",
    "import pandas as pd\n",
    "import numpy as np\n",
    "import seaborn as sns\n",
    "\n",
    "from scipy.stats import pearsonr\n",
    "from statsmodels.formula.api import ols\n",
    "from statsmodels.stats.anova import anova_lm\n",
    "from statsmodels.tsa.seasonal import seasonal_decompose"
   ]
  },
  {
   "cell_type": "markdown",
   "id": "a4d78aaa",
   "metadata": {},
   "source": [
    "#### 1. Import the CarSharing table into a CSV file and preprocess it with python. \n",
    ">You need to drop duplicate rows and deal with null values using appropriate methods.\n"
   ]
  },
  {
   "cell_type": "code",
   "execution_count": null,
   "id": "55c80d47",
   "metadata": {},
   "outputs": [],
   "source": [
    "# save the CarSharing table from our database to a csv file\n",
    "with engine.connect() as conn:\n",
    "    df = pd.read_sql_query('SELECT * FROM CarSharing', conn)\n",
    "    df.to_csv('car_sharing.csv', index=False)"
   ]
  },
  {
   "cell_type": "code",
   "execution_count": 6,
   "id": "c6ad4506",
   "metadata": {
    "scrolled": true
   },
   "outputs": [
    {
     "data": {
      "text/html": [
       "<div>\n",
       "<style scoped>\n",
       "    .dataframe tbody tr th:only-of-type {\n",
       "        vertical-align: middle;\n",
       "    }\n",
       "\n",
       "    .dataframe tbody tr th {\n",
       "        vertical-align: top;\n",
       "    }\n",
       "\n",
       "    .dataframe thead th {\n",
       "        text-align: right;\n",
       "    }\n",
       "</style>\n",
       "<table border=\"1\" class=\"dataframe\">\n",
       "  <thead>\n",
       "    <tr style=\"text-align: right;\">\n",
       "      <th></th>\n",
       "      <th>id</th>\n",
       "      <th>timestamp</th>\n",
       "      <th>season</th>\n",
       "      <th>holiday</th>\n",
       "      <th>workingday</th>\n",
       "      <th>humidity</th>\n",
       "      <th>windspeed</th>\n",
       "      <th>demand</th>\n",
       "      <th>temp_category</th>\n",
       "      <th>weather_code</th>\n",
       "    </tr>\n",
       "  </thead>\n",
       "  <tbody>\n",
       "    <tr>\n",
       "      <th>0</th>\n",
       "      <td>1</td>\n",
       "      <td>2017-01-01 00:00:00</td>\n",
       "      <td>spring</td>\n",
       "      <td>No</td>\n",
       "      <td>No</td>\n",
       "      <td>81.0</td>\n",
       "      <td>0.0</td>\n",
       "      <td>2.772589</td>\n",
       "      <td>Mild</td>\n",
       "      <td>1</td>\n",
       "    </tr>\n",
       "    <tr>\n",
       "      <th>1</th>\n",
       "      <td>2</td>\n",
       "      <td>2017-01-01 01:00:00</td>\n",
       "      <td>spring</td>\n",
       "      <td>No</td>\n",
       "      <td>No</td>\n",
       "      <td>80.0</td>\n",
       "      <td>0.0</td>\n",
       "      <td>3.688879</td>\n",
       "      <td>Mild</td>\n",
       "      <td>1</td>\n",
       "    </tr>\n",
       "    <tr>\n",
       "      <th>2</th>\n",
       "      <td>3</td>\n",
       "      <td>2017-01-01 02:00:00</td>\n",
       "      <td>spring</td>\n",
       "      <td>No</td>\n",
       "      <td>No</td>\n",
       "      <td>80.0</td>\n",
       "      <td>0.0</td>\n",
       "      <td>3.465736</td>\n",
       "      <td>Mild</td>\n",
       "      <td>1</td>\n",
       "    </tr>\n",
       "    <tr>\n",
       "      <th>3</th>\n",
       "      <td>4</td>\n",
       "      <td>2017-01-01 03:00:00</td>\n",
       "      <td>spring</td>\n",
       "      <td>No</td>\n",
       "      <td>No</td>\n",
       "      <td>75.0</td>\n",
       "      <td>0.0</td>\n",
       "      <td>2.564949</td>\n",
       "      <td>Mild</td>\n",
       "      <td>1</td>\n",
       "    </tr>\n",
       "    <tr>\n",
       "      <th>4</th>\n",
       "      <td>5</td>\n",
       "      <td>2017-01-01 04:00:00</td>\n",
       "      <td>spring</td>\n",
       "      <td>No</td>\n",
       "      <td>No</td>\n",
       "      <td>75.0</td>\n",
       "      <td>0.0</td>\n",
       "      <td>0.000000</td>\n",
       "      <td>Mild</td>\n",
       "      <td>1</td>\n",
       "    </tr>\n",
       "  </tbody>\n",
       "</table>\n",
       "</div>"
      ],
      "text/plain": [
       "   id            timestamp  season holiday workingday  humidity  windspeed  \\\n",
       "0   1  2017-01-01 00:00:00  spring      No         No      81.0        0.0   \n",
       "1   2  2017-01-01 01:00:00  spring      No         No      80.0        0.0   \n",
       "2   3  2017-01-01 02:00:00  spring      No         No      80.0        0.0   \n",
       "3   4  2017-01-01 03:00:00  spring      No         No      75.0        0.0   \n",
       "4   5  2017-01-01 04:00:00  spring      No         No      75.0        0.0   \n",
       "\n",
       "     demand temp_category  weather_code  \n",
       "0  2.772589          Mild             1  \n",
       "1  3.688879          Mild             1  \n",
       "2  3.465736          Mild             1  \n",
       "3  2.564949          Mild             1  \n",
       "4  0.000000          Mild             1  "
      ]
     },
     "execution_count": 6,
     "metadata": {},
     "output_type": "execute_result"
    }
   ],
   "source": [
    "# import the CarSharing table as a pandas dataframe\n",
    "\n",
    "input_df = pd.read_csv('car_sharing.csv')\n",
    "df = input_df.copy()\n",
    "df.head()"
   ]
  },
  {
   "cell_type": "code",
   "execution_count": 3,
   "id": "ce53b7af",
   "metadata": {},
   "outputs": [
    {
     "name": "stdout",
     "output_type": "stream",
     "text": [
      "<class 'pandas.core.frame.DataFrame'>\n",
      "RangeIndex: 8708 entries, 0 to 8707\n",
      "Data columns (total 10 columns):\n",
      " #   Column         Non-Null Count  Dtype  \n",
      "---  ------         --------------  -----  \n",
      " 0   id             8708 non-null   int64  \n",
      " 1   timestamp      8708 non-null   object \n",
      " 2   season         8708 non-null   object \n",
      " 3   holiday        8708 non-null   object \n",
      " 4   workingday     8708 non-null   object \n",
      " 5   humidity       8669 non-null   float64\n",
      " 6   windspeed      8508 non-null   float64\n",
      " 7   demand         8708 non-null   float64\n",
      " 8   temp_category  8708 non-null   object \n",
      " 9   weather_code   8708 non-null   int64  \n",
      "dtypes: float64(3), int64(2), object(5)\n",
      "memory usage: 680.4+ KB\n"
     ]
    }
   ],
   "source": [
    "df.info()"
   ]
  },
  {
   "cell_type": "code",
   "execution_count": 8,
   "id": "58315427",
   "metadata": {},
   "outputs": [
    {
     "name": "stdout",
     "output_type": "stream",
     "text": [
      "<class 'pandas.core.frame.DataFrame'>\n",
      "RangeIndex: 8708 entries, 0 to 8707\n",
      "Data columns (total 10 columns):\n",
      " #   Column         Non-Null Count  Dtype         \n",
      "---  ------         --------------  -----         \n",
      " 0   id             8708 non-null   int64         \n",
      " 1   timestamp      8708 non-null   datetime64[ns]\n",
      " 2   season         8708 non-null   object        \n",
      " 3   holiday        8708 non-null   object        \n",
      " 4   workingday     8708 non-null   object        \n",
      " 5   humidity       8669 non-null   float64       \n",
      " 6   windspeed      8508 non-null   float64       \n",
      " 7   demand         8708 non-null   float64       \n",
      " 8   temp_category  8708 non-null   object        \n",
      " 9   weather_code   8708 non-null   int64         \n",
      "dtypes: datetime64[ns](1), float64(3), int64(2), object(4)\n",
      "memory usage: 680.4+ KB\n"
     ]
    }
   ],
   "source": [
    "# convert the timestamp column to datetime\n",
    "df['timestamp'] = pd.to_datetime(df.timestamp)\n",
    "df.info()"
   ]
  },
  {
   "cell_type": "code",
   "execution_count": 5,
   "id": "38ece75a",
   "metadata": {},
   "outputs": [
    {
     "name": "stdout",
     "output_type": "stream",
     "text": [
      "Duplucated: False\n",
      "\n",
      "\n",
      "id               False\n",
      "timestamp        False\n",
      "season           False\n",
      "holiday          False\n",
      "workingday       False\n",
      "humidity          True\n",
      "windspeed         True\n",
      "demand           False\n",
      "temp_category    False\n",
      "weather_code     False\n",
      "dtype: bool\n"
     ]
    }
   ],
   "source": [
    "# check for duplicate and null rows \n",
    "print('Duplucated: %s' % df.duplicated().any())\n",
    "print('\\n')\n",
    "print(df.isna().any())"
   ]
  },
  {
   "cell_type": "code",
   "execution_count": 6,
   "id": "befea56b",
   "metadata": {},
   "outputs": [
    {
     "data": {
      "text/plain": [
       "id                 0\n",
       "timestamp          0\n",
       "season             0\n",
       "holiday            0\n",
       "workingday         0\n",
       "humidity          39\n",
       "windspeed        200\n",
       "demand             0\n",
       "temp_category      0\n",
       "weather_code       0\n",
       "dtype: int64"
      ]
     },
     "execution_count": 6,
     "metadata": {},
     "output_type": "execute_result"
    }
   ],
   "source": [
    "# preview the null columns in the dataframe\n",
    "\n",
    "df.isnull().sum()"
   ]
  },
  {
   "cell_type": "code",
   "execution_count": 7,
   "id": "de4b3584",
   "metadata": {},
   "outputs": [
    {
     "data": {
      "text/html": [
       "<div>\n",
       "<style scoped>\n",
       "    .dataframe tbody tr th:only-of-type {\n",
       "        vertical-align: middle;\n",
       "    }\n",
       "\n",
       "    .dataframe tbody tr th {\n",
       "        vertical-align: top;\n",
       "    }\n",
       "\n",
       "    .dataframe thead th {\n",
       "        text-align: right;\n",
       "    }\n",
       "</style>\n",
       "<table border=\"1\" class=\"dataframe\">\n",
       "  <thead>\n",
       "    <tr style=\"text-align: right;\">\n",
       "      <th></th>\n",
       "      <th>humidity</th>\n",
       "      <th>windspeed</th>\n",
       "    </tr>\n",
       "  </thead>\n",
       "  <tbody>\n",
       "    <tr>\n",
       "      <th>count</th>\n",
       "      <td>8669.00000</td>\n",
       "      <td>8508.000000</td>\n",
       "    </tr>\n",
       "    <tr>\n",
       "      <th>mean</th>\n",
       "      <td>60.99354</td>\n",
       "      <td>13.048589</td>\n",
       "    </tr>\n",
       "    <tr>\n",
       "      <th>std</th>\n",
       "      <td>19.67989</td>\n",
       "      <td>8.311058</td>\n",
       "    </tr>\n",
       "    <tr>\n",
       "      <th>min</th>\n",
       "      <td>0.00000</td>\n",
       "      <td>0.000000</td>\n",
       "    </tr>\n",
       "    <tr>\n",
       "      <th>25%</th>\n",
       "      <td>46.00000</td>\n",
       "      <td>7.001500</td>\n",
       "    </tr>\n",
       "    <tr>\n",
       "      <th>50%</th>\n",
       "      <td>60.00000</td>\n",
       "      <td>12.998000</td>\n",
       "    </tr>\n",
       "    <tr>\n",
       "      <th>75%</th>\n",
       "      <td>77.00000</td>\n",
       "      <td>19.001200</td>\n",
       "    </tr>\n",
       "    <tr>\n",
       "      <th>max</th>\n",
       "      <td>100.00000</td>\n",
       "      <td>56.996900</td>\n",
       "    </tr>\n",
       "  </tbody>\n",
       "</table>\n",
       "</div>"
      ],
      "text/plain": [
       "         humidity    windspeed\n",
       "count  8669.00000  8508.000000\n",
       "mean     60.99354    13.048589\n",
       "std      19.67989     8.311058\n",
       "min       0.00000     0.000000\n",
       "25%      46.00000     7.001500\n",
       "50%      60.00000    12.998000\n",
       "75%      77.00000    19.001200\n",
       "max     100.00000    56.996900"
      ]
     },
     "execution_count": 7,
     "metadata": {},
     "output_type": "execute_result"
    }
   ],
   "source": [
    "# preview the discriptive statistics of those Null columns\n",
    "df[['humidity', 'windspeed']].describe()"
   ]
  },
  {
   "cell_type": "code",
   "execution_count": 5,
   "id": "62ca2bf5",
   "metadata": {},
   "outputs": [
    {
     "data": {
      "text/plain": [
       "id               False\n",
       "timestamp        False\n",
       "season           False\n",
       "holiday          False\n",
       "workingday       False\n",
       "humidity         False\n",
       "windspeed        False\n",
       "demand           False\n",
       "temp_category    False\n",
       "weather_code     False\n",
       "dtype: bool"
      ]
     },
     "execution_count": 5,
     "metadata": {},
     "output_type": "execute_result"
    }
   ],
   "source": [
    "# obtain the mean of both columns with null values\n",
    "\n",
    "windspeed_mean = df.windspeed.mean()\n",
    "humidity_mean = df.humidity.mean()\n",
    "\n",
    "# fill the null values with the mean of the columns \n",
    "\n",
    "df.windspeed.fillna(windspeed_mean, inplace=True)\n",
    "df.humidity.fillna(humidity_mean, inplace=True)\n",
    "\n",
    "# check for null values in the df\n",
    "df.isna().any()"
   ]
  },
  {
   "cell_type": "code",
   "execution_count": 9,
   "id": "fe196703",
   "metadata": {},
   "outputs": [
    {
     "data": {
      "text/html": [
       "<div>\n",
       "<style scoped>\n",
       "    .dataframe tbody tr th:only-of-type {\n",
       "        vertical-align: middle;\n",
       "    }\n",
       "\n",
       "    .dataframe tbody tr th {\n",
       "        vertical-align: top;\n",
       "    }\n",
       "\n",
       "    .dataframe thead th {\n",
       "        text-align: right;\n",
       "    }\n",
       "</style>\n",
       "<table border=\"1\" class=\"dataframe\">\n",
       "  <thead>\n",
       "    <tr style=\"text-align: right;\">\n",
       "      <th></th>\n",
       "      <th>id</th>\n",
       "      <th>timestamp</th>\n",
       "      <th>season</th>\n",
       "      <th>holiday</th>\n",
       "      <th>workingday</th>\n",
       "      <th>humidity</th>\n",
       "      <th>windspeed</th>\n",
       "      <th>demand</th>\n",
       "      <th>temp_category</th>\n",
       "      <th>weather_code</th>\n",
       "    </tr>\n",
       "  </thead>\n",
       "  <tbody>\n",
       "    <tr>\n",
       "      <th>0</th>\n",
       "      <td>1</td>\n",
       "      <td>2017-01-01 00:00:00</td>\n",
       "      <td>spring</td>\n",
       "      <td>No</td>\n",
       "      <td>No</td>\n",
       "      <td>81.0</td>\n",
       "      <td>0.0</td>\n",
       "      <td>2.772589</td>\n",
       "      <td>Mild</td>\n",
       "      <td>1</td>\n",
       "    </tr>\n",
       "    <tr>\n",
       "      <th>1</th>\n",
       "      <td>2</td>\n",
       "      <td>2017-01-01 01:00:00</td>\n",
       "      <td>spring</td>\n",
       "      <td>No</td>\n",
       "      <td>No</td>\n",
       "      <td>80.0</td>\n",
       "      <td>0.0</td>\n",
       "      <td>3.688879</td>\n",
       "      <td>Mild</td>\n",
       "      <td>1</td>\n",
       "    </tr>\n",
       "    <tr>\n",
       "      <th>2</th>\n",
       "      <td>3</td>\n",
       "      <td>2017-01-01 02:00:00</td>\n",
       "      <td>spring</td>\n",
       "      <td>No</td>\n",
       "      <td>No</td>\n",
       "      <td>80.0</td>\n",
       "      <td>0.0</td>\n",
       "      <td>3.465736</td>\n",
       "      <td>Mild</td>\n",
       "      <td>1</td>\n",
       "    </tr>\n",
       "    <tr>\n",
       "      <th>3</th>\n",
       "      <td>4</td>\n",
       "      <td>2017-01-01 03:00:00</td>\n",
       "      <td>spring</td>\n",
       "      <td>No</td>\n",
       "      <td>No</td>\n",
       "      <td>75.0</td>\n",
       "      <td>0.0</td>\n",
       "      <td>2.564949</td>\n",
       "      <td>Mild</td>\n",
       "      <td>1</td>\n",
       "    </tr>\n",
       "    <tr>\n",
       "      <th>4</th>\n",
       "      <td>5</td>\n",
       "      <td>2017-01-01 04:00:00</td>\n",
       "      <td>spring</td>\n",
       "      <td>No</td>\n",
       "      <td>No</td>\n",
       "      <td>75.0</td>\n",
       "      <td>0.0</td>\n",
       "      <td>0.000000</td>\n",
       "      <td>Mild</td>\n",
       "      <td>1</td>\n",
       "    </tr>\n",
       "  </tbody>\n",
       "</table>\n",
       "</div>"
      ],
      "text/plain": [
       "   id           timestamp  season holiday workingday  humidity  windspeed  \\\n",
       "0   1 2017-01-01 00:00:00  spring      No         No      81.0        0.0   \n",
       "1   2 2017-01-01 01:00:00  spring      No         No      80.0        0.0   \n",
       "2   3 2017-01-01 02:00:00  spring      No         No      80.0        0.0   \n",
       "3   4 2017-01-01 03:00:00  spring      No         No      75.0        0.0   \n",
       "4   5 2017-01-01 04:00:00  spring      No         No      75.0        0.0   \n",
       "\n",
       "     demand temp_category  weather_code  \n",
       "0  2.772589          Mild             1  \n",
       "1  3.688879          Mild             1  \n",
       "2  3.465736          Mild             1  \n",
       "3  2.564949          Mild             1  \n",
       "4  0.000000          Mild             1  "
      ]
     },
     "execution_count": 9,
     "metadata": {},
     "output_type": "execute_result"
    }
   ],
   "source": [
    "df.head()"
   ]
  },
  {
   "cell_type": "markdown",
   "id": "1cf614da",
   "metadata": {},
   "source": [
    "### Statistical Tests <a id=topic4></a>\n",
    "\n",
    "See [table of contents](#content)"
   ]
  },
  {
   "cell_type": "markdown",
   "id": "b2064536",
   "metadata": {},
   "source": [
    "#### 2. Using appropriate hypothesis testing, determine if there is a significant relationship between each column (except the timestamp column) and the demand rate. \n",
    "\n",
    "> Report the tests’ results. "
   ]
  },
  {
   "cell_type": "code",
   "execution_count": 11,
   "id": "ae5fe537",
   "metadata": {},
   "outputs": [],
   "source": [
    "# write functions to repeat this analysis for all the columns\n",
    "def anova_test(df,predictor,outcome='demand'):\n",
    "    '''Runs an ANOVA on a pandas dataframe using the output variable and a categorical predictor column\n",
    "    Data types:\n",
    "    - predictor should be of categorical data type\n",
    "    - outcome variable should be of quantitative data type\n",
    "    Returns:\n",
    "    And anova table showing the details of test result'''\n",
    "    formula = f\"{outcome} ~ C({predictor})\"\n",
    "    model = ols(formula, data=df).fit()\n",
    "    anova_table = anova_lm(model)\n",
    "    \n",
    "    'Print the result of the ANOVA test showing the F-statistic and the p_value as PR(>F)'\n",
    "    print(f'\\tANOVA test for {predictor} and demand\\n') \n",
    "    print(anova_table[['F','PR(>F)']].iloc[0])\n",
    "\n",
    "\n",
    "def corr_test(df,predictor,outcome='demand'):\n",
    "    '''Runs a pearsons correlation test on two continuous columns of the dataframe\n",
    "    Use: \n",
    "    Test the relation between quantitative variables \n",
    "    Returns:\n",
    "    2 values: the correlation coefficient and the p value from the test'''\n",
    "    corr, p_value = pearsonr(df[predictor], df[outcome])\n",
    "    \n",
    "    'Print results of the correlation test showing the correlation coefficient and p_value'\n",
    "    print(f'\\tCorrelation test for {predictor} and demand\\n')\n",
    "    print(f\"Correlation coefficient: {corr} \\np_value: {p_value}\")"
   ]
  },
  {
   "cell_type": "code",
   "execution_count": 12,
   "id": "ec21163f",
   "metadata": {},
   "outputs": [
    {
     "name": "stdout",
     "output_type": "stream",
     "text": [
      "\tANOVA test for season and demand\n",
      "\n",
      "F         1.500648e+02\n",
      "PR(>F)    8.024922e-95\n",
      "Name: C(season), dtype: float64\n"
     ]
    }
   ],
   "source": [
    "# season vs demand\n",
    "\n",
    "anova_test(df,'season')"
   ]
  },
  {
   "cell_type": "code",
   "execution_count": 25,
   "id": "36230d76",
   "metadata": {},
   "outputs": [
    {
     "name": "stdout",
     "output_type": "stream",
     "text": [
      "\tANOVA test for holiday and demand\n",
      "\n",
      "F         0.011054\n",
      "PR(>F)    0.916267\n",
      "Name: C(holiday), dtype: float64\n"
     ]
    }
   ],
   "source": [
    "# holiday vs demand\n",
    "\n",
    "anova_test(df,'holiday')"
   ]
  },
  {
   "cell_type": "code",
   "execution_count": 26,
   "id": "afb28326",
   "metadata": {},
   "outputs": [
    {
     "name": "stdout",
     "output_type": "stream",
     "text": [
      "\tANOVA test for workingday and demand\n",
      "\n",
      "F         2.868367\n",
      "PR(>F)    0.090372\n",
      "Name: C(workingday), dtype: float64\n"
     ]
    }
   ],
   "source": [
    "# workingday vs demand\n",
    "\n",
    "anova_test(df,'workingday')"
   ]
  },
  {
   "cell_type": "code",
   "execution_count": 27,
   "id": "661a0a5f",
   "metadata": {},
   "outputs": [
    {
     "name": "stdout",
     "output_type": "stream",
     "text": [
      "\tCorrelation test for humidity and demand\n",
      "\n",
      "Correlation coefficient: -0.3307919138439357 \n",
      "p_value: 2.1447286875685434e-221\n"
     ]
    }
   ],
   "source": [
    "# humidity vs windspeed\n",
    "\n",
    "corr_test(df,'humidity')"
   ]
  },
  {
   "cell_type": "code",
   "execution_count": 28,
   "id": "d445911c",
   "metadata": {},
   "outputs": [
    {
     "name": "stdout",
     "output_type": "stream",
     "text": [
      "\tCorrelation test for windspeed and demand\n",
      "\n",
      "Correlation coefficient: 0.11831270842838336 \n",
      "p_value: 1.606146300078552e-28\n"
     ]
    }
   ],
   "source": [
    "# windspeed vs demand\n",
    "\n",
    "corr_test(df,'windspeed')"
   ]
  },
  {
   "cell_type": "code",
   "execution_count": 29,
   "id": "2e97bbd0",
   "metadata": {},
   "outputs": [
    {
     "name": "stdout",
     "output_type": "stream",
     "text": [
      "\tANOVA test for temp_category and demand\n",
      "\n",
      "F          5.231823e+02\n",
      "PR(>F)    2.731920e-215\n",
      "Name: C(temp_category), dtype: float64\n"
     ]
    }
   ],
   "source": [
    "# temp_category vs demand\n",
    "\n",
    "anova_test(df,'temp_category')"
   ]
  },
  {
   "cell_type": "code",
   "execution_count": 31,
   "id": "eb87644b",
   "metadata": {},
   "outputs": [
    {
     "name": "stdout",
     "output_type": "stream",
     "text": [
      "\tANOVA test for weather_code and demand\n",
      "\n",
      "F         4.858619e+01\n",
      "PR(>F)    3.927930e-31\n",
      "Name: C(weather_code), dtype: float64\n"
     ]
    }
   ],
   "source": [
    "# weather_code vs demand\n",
    "\n",
    "anova_test(df,'weather_code')"
   ]
  },
  {
   "cell_type": "markdown",
   "id": "09aee557",
   "metadata": {},
   "source": [
    "The null hypothesis is that there is no relationship between values in each of the columns and the demand column. The alternative hypothesis is the opposite where a relationship exists between the values of the columns and the demand column.\n",
    "\n",
    "> The `season`, `humidity`, `windspeed`, `temp_category`, and `weather_code` columns had very small p-values (<0.05) following the test. Hence, we reject the null hypothesis for these cases.\n",
    "\n",
    "This implies that there are significant differences between the groups in each of these columns. \n",
    "\n",
    "- More importantly, this strongly indicates that the categories within these columns influence the outcome variable\n",
    "\n",
    "On the other hand, `holiday` and `workingday` had higher p-values indicating support for the Null hypothesis that no significant difference exists between the categories in those variables\n",
    "\n",
    "> Hence we do not reject the null hypothesis for these cases"
   ]
  },
  {
   "cell_type": "markdown",
   "id": "916d65c7",
   "metadata": {},
   "source": [
    "### Test for seasonality <a id=topic5></a>\n",
    "\n",
    "See [table of contents](#content)"
   ]
  },
  {
   "cell_type": "markdown",
   "id": "a62d50d5",
   "metadata": {},
   "source": [
    "#### 3. Please describe if you see any seasonal or cyclic pattern in the temp, humidity, windspeed, or demand data in 2017. >\n",
    "\n",
    "> Describe your answers. "
   ]
  },
  {
   "cell_type": "code",
   "execution_count": 13,
   "id": "e93093bc",
   "metadata": {},
   "outputs": [],
   "source": [
    "# use seasonal decomposition to check for seasonality or patterns in the data\n",
    "from statsmodels.tsa.seasonal import seasonal_decompose"
   ]
  },
  {
   "cell_type": "code",
   "execution_count": 14,
   "id": "90dbb9e3",
   "metadata": {},
   "outputs": [
    {
     "data": {
      "text/html": [
       "<div>\n",
       "<style scoped>\n",
       "    .dataframe tbody tr th:only-of-type {\n",
       "        vertical-align: middle;\n",
       "    }\n",
       "\n",
       "    .dataframe tbody tr th {\n",
       "        vertical-align: top;\n",
       "    }\n",
       "\n",
       "    .dataframe thead th {\n",
       "        text-align: right;\n",
       "    }\n",
       "</style>\n",
       "<table border=\"1\" class=\"dataframe\">\n",
       "  <thead>\n",
       "    <tr style=\"text-align: right;\">\n",
       "      <th></th>\n",
       "      <th>id</th>\n",
       "      <th>timestamp</th>\n",
       "      <th>season</th>\n",
       "      <th>holiday</th>\n",
       "      <th>workingday</th>\n",
       "      <th>humidity</th>\n",
       "      <th>windspeed</th>\n",
       "      <th>demand</th>\n",
       "      <th>temp_category</th>\n",
       "      <th>weather_code</th>\n",
       "    </tr>\n",
       "  </thead>\n",
       "  <tbody>\n",
       "    <tr>\n",
       "      <th>0</th>\n",
       "      <td>1</td>\n",
       "      <td>2017-01-01 00:00:00</td>\n",
       "      <td>spring</td>\n",
       "      <td>No</td>\n",
       "      <td>No</td>\n",
       "      <td>81.0</td>\n",
       "      <td>0.0</td>\n",
       "      <td>2.772589</td>\n",
       "      <td>Mild</td>\n",
       "      <td>1</td>\n",
       "    </tr>\n",
       "    <tr>\n",
       "      <th>1</th>\n",
       "      <td>2</td>\n",
       "      <td>2017-01-01 01:00:00</td>\n",
       "      <td>spring</td>\n",
       "      <td>No</td>\n",
       "      <td>No</td>\n",
       "      <td>80.0</td>\n",
       "      <td>0.0</td>\n",
       "      <td>3.688879</td>\n",
       "      <td>Mild</td>\n",
       "      <td>1</td>\n",
       "    </tr>\n",
       "    <tr>\n",
       "      <th>2</th>\n",
       "      <td>3</td>\n",
       "      <td>2017-01-01 02:00:00</td>\n",
       "      <td>spring</td>\n",
       "      <td>No</td>\n",
       "      <td>No</td>\n",
       "      <td>80.0</td>\n",
       "      <td>0.0</td>\n",
       "      <td>3.465736</td>\n",
       "      <td>Mild</td>\n",
       "      <td>1</td>\n",
       "    </tr>\n",
       "    <tr>\n",
       "      <th>3</th>\n",
       "      <td>4</td>\n",
       "      <td>2017-01-01 03:00:00</td>\n",
       "      <td>spring</td>\n",
       "      <td>No</td>\n",
       "      <td>No</td>\n",
       "      <td>75.0</td>\n",
       "      <td>0.0</td>\n",
       "      <td>2.564949</td>\n",
       "      <td>Mild</td>\n",
       "      <td>1</td>\n",
       "    </tr>\n",
       "    <tr>\n",
       "      <th>4</th>\n",
       "      <td>5</td>\n",
       "      <td>2017-01-01 04:00:00</td>\n",
       "      <td>spring</td>\n",
       "      <td>No</td>\n",
       "      <td>No</td>\n",
       "      <td>75.0</td>\n",
       "      <td>0.0</td>\n",
       "      <td>0.000000</td>\n",
       "      <td>Mild</td>\n",
       "      <td>1</td>\n",
       "    </tr>\n",
       "  </tbody>\n",
       "</table>\n",
       "</div>"
      ],
      "text/plain": [
       "   id           timestamp  season holiday workingday  humidity  windspeed  \\\n",
       "0   1 2017-01-01 00:00:00  spring      No         No      81.0        0.0   \n",
       "1   2 2017-01-01 01:00:00  spring      No         No      80.0        0.0   \n",
       "2   3 2017-01-01 02:00:00  spring      No         No      80.0        0.0   \n",
       "3   4 2017-01-01 03:00:00  spring      No         No      75.0        0.0   \n",
       "4   5 2017-01-01 04:00:00  spring      No         No      75.0        0.0   \n",
       "\n",
       "     demand temp_category  weather_code  \n",
       "0  2.772589          Mild             1  \n",
       "1  3.688879          Mild             1  \n",
       "2  3.465736          Mild             1  \n",
       "3  2.564949          Mild             1  \n",
       "4  0.000000          Mild             1  "
      ]
     },
     "execution_count": 14,
     "metadata": {},
     "output_type": "execute_result"
    }
   ],
   "source": [
    "# use a test column - humidity to check for seasonality \n",
    "# make the timestamp column the index\n",
    "df.head()"
   ]
  },
  {
   "cell_type": "code",
   "execution_count": 62,
   "id": "d1fc8f03",
   "metadata": {},
   "outputs": [
    {
     "data": {
      "text/html": [
       "<div>\n",
       "<style scoped>\n",
       "    .dataframe tbody tr th:only-of-type {\n",
       "        vertical-align: middle;\n",
       "    }\n",
       "\n",
       "    .dataframe tbody tr th {\n",
       "        vertical-align: top;\n",
       "    }\n",
       "\n",
       "    .dataframe thead th {\n",
       "        text-align: right;\n",
       "    }\n",
       "</style>\n",
       "<table border=\"1\" class=\"dataframe\">\n",
       "  <thead>\n",
       "    <tr style=\"text-align: right;\">\n",
       "      <th></th>\n",
       "      <th>id</th>\n",
       "      <th>season</th>\n",
       "      <th>holiday</th>\n",
       "      <th>workingday</th>\n",
       "      <th>humidity</th>\n",
       "      <th>windspeed</th>\n",
       "      <th>demand</th>\n",
       "      <th>temp_category</th>\n",
       "      <th>weather_code</th>\n",
       "    </tr>\n",
       "    <tr>\n",
       "      <th>timestamp</th>\n",
       "      <th></th>\n",
       "      <th></th>\n",
       "      <th></th>\n",
       "      <th></th>\n",
       "      <th></th>\n",
       "      <th></th>\n",
       "      <th></th>\n",
       "      <th></th>\n",
       "      <th></th>\n",
       "    </tr>\n",
       "  </thead>\n",
       "  <tbody>\n",
       "    <tr>\n",
       "      <th>2017-01-01 00:00:00</th>\n",
       "      <td>1</td>\n",
       "      <td>spring</td>\n",
       "      <td>No</td>\n",
       "      <td>No</td>\n",
       "      <td>81.0</td>\n",
       "      <td>0.0</td>\n",
       "      <td>2.772589</td>\n",
       "      <td>Mild</td>\n",
       "      <td>1</td>\n",
       "    </tr>\n",
       "    <tr>\n",
       "      <th>2017-01-01 01:00:00</th>\n",
       "      <td>2</td>\n",
       "      <td>spring</td>\n",
       "      <td>No</td>\n",
       "      <td>No</td>\n",
       "      <td>80.0</td>\n",
       "      <td>0.0</td>\n",
       "      <td>3.688879</td>\n",
       "      <td>Mild</td>\n",
       "      <td>1</td>\n",
       "    </tr>\n",
       "    <tr>\n",
       "      <th>2017-01-01 02:00:00</th>\n",
       "      <td>3</td>\n",
       "      <td>spring</td>\n",
       "      <td>No</td>\n",
       "      <td>No</td>\n",
       "      <td>80.0</td>\n",
       "      <td>0.0</td>\n",
       "      <td>3.465736</td>\n",
       "      <td>Mild</td>\n",
       "      <td>1</td>\n",
       "    </tr>\n",
       "    <tr>\n",
       "      <th>2017-01-01 03:00:00</th>\n",
       "      <td>4</td>\n",
       "      <td>spring</td>\n",
       "      <td>No</td>\n",
       "      <td>No</td>\n",
       "      <td>75.0</td>\n",
       "      <td>0.0</td>\n",
       "      <td>2.564949</td>\n",
       "      <td>Mild</td>\n",
       "      <td>1</td>\n",
       "    </tr>\n",
       "    <tr>\n",
       "      <th>2017-01-01 04:00:00</th>\n",
       "      <td>5</td>\n",
       "      <td>spring</td>\n",
       "      <td>No</td>\n",
       "      <td>No</td>\n",
       "      <td>75.0</td>\n",
       "      <td>0.0</td>\n",
       "      <td>0.000000</td>\n",
       "      <td>Mild</td>\n",
       "      <td>1</td>\n",
       "    </tr>\n",
       "  </tbody>\n",
       "</table>\n",
       "</div>"
      ],
      "text/plain": [
       "                     id  season holiday workingday  humidity  windspeed  \\\n",
       "timestamp                                                                 \n",
       "2017-01-01 00:00:00   1  spring      No         No      81.0        0.0   \n",
       "2017-01-01 01:00:00   2  spring      No         No      80.0        0.0   \n",
       "2017-01-01 02:00:00   3  spring      No         No      80.0        0.0   \n",
       "2017-01-01 03:00:00   4  spring      No         No      75.0        0.0   \n",
       "2017-01-01 04:00:00   5  spring      No         No      75.0        0.0   \n",
       "\n",
       "                       demand temp_category  weather_code  \n",
       "timestamp                                                  \n",
       "2017-01-01 00:00:00  2.772589          Mild             1  \n",
       "2017-01-01 01:00:00  3.688879          Mild             1  \n",
       "2017-01-01 02:00:00  3.465736          Mild             1  \n",
       "2017-01-01 03:00:00  2.564949          Mild             1  \n",
       "2017-01-01 04:00:00  0.000000          Mild             1  "
      ]
     },
     "execution_count": 62,
     "metadata": {},
     "output_type": "execute_result"
    }
   ],
   "source": [
    "# set the index of the dataframe to be the timestamp\n",
    "df_season = df.copy()\n",
    "df_season = df.set_index('timestamp')\n",
    "df_season.head()"
   ]
  },
  {
   "cell_type": "code",
   "execution_count": 65,
   "id": "320848f8",
   "metadata": {},
   "outputs": [
    {
     "name": "stdout",
     "output_type": "stream",
     "text": [
      "<Hour>\n"
     ]
    }
   ],
   "source": [
    "# set the frequency of the index to be hourly as in the dataframe\n",
    "df_season = df_season.asfreq('H')\n",
    "print(df_season.index.freq)"
   ]
  },
  {
   "cell_type": "code",
   "execution_count": 87,
   "id": "a0b40c7e",
   "metadata": {},
   "outputs": [
    {
     "data": {
      "text/plain": [
       "id               5241\n",
       "season           5241\n",
       "holiday          5241\n",
       "workingday       5241\n",
       "humidity         5241\n",
       "windspeed        5241\n",
       "demand           5241\n",
       "temp_category    5241\n",
       "weather_code     5241\n",
       "dtype: int64"
      ]
     },
     "execution_count": 87,
     "metadata": {},
     "output_type": "execute_result"
    }
   ],
   "source": [
    "# inspect columns with null values\n",
    "df_season.isna().sum()"
   ]
  },
  {
   "cell_type": "code",
   "execution_count": 88,
   "id": "5f46de97",
   "metadata": {},
   "outputs": [
    {
     "data": {
      "text/plain": [
       "5241"
      ]
     },
     "execution_count": 88,
     "metadata": {},
     "output_type": "execute_result"
    }
   ],
   "source": [
    "# difference between newly added rows in the df_season and the original df\n",
    "df_season.shape[0] - df.shape[0]"
   ]
  },
  {
   "cell_type": "code",
   "execution_count": 90,
   "id": "4f570866",
   "metadata": {},
   "outputs": [
    {
     "data": {
      "text/plain": [
       "id               0\n",
       "season           0\n",
       "holiday          0\n",
       "workingday       0\n",
       "humidity         0\n",
       "windspeed        0\n",
       "demand           0\n",
       "temp_category    0\n",
       "weather_code     0\n",
       "dtype: int64"
      ]
     },
     "execution_count": 90,
     "metadata": {},
     "output_type": "execute_result"
    }
   ],
   "source": [
    "# drop rows with null values\n",
    "df_season.dropna(inplace=True,how='all')\n",
    "df_season.isna().sum()"
   ]
  },
  {
   "cell_type": "code",
   "execution_count": 100,
   "id": "b731c65b",
   "metadata": {},
   "outputs": [],
   "source": [
    "assert df_season.shape[0] == df.shape[0]"
   ]
  },
  {
   "cell_type": "code",
   "execution_count": 41,
   "id": "a53ebb2f",
   "metadata": {},
   "outputs": [],
   "source": [
    "# define the function to perform the seasonal decompose on the various columns in the df\n",
    "def decompose(df, column, period=7):\n",
    "#     resample the data to weekly averages to reduce noise in the data\n",
    "    new_df = df.resample('W').mean().dropna(how='all')\n",
    "    analysis = new_df[column]\n",
    "    \n",
    "    # perform the seasonal decompostion on the new df - analysis\n",
    "    seasonal_decompose_result = seasonal_decompose(x=analysis, period=period)\n",
    "    \n",
    "    trend = seasonal_decompose_result.trend\n",
    "    seasonal = seasonal_decompose_result.seasonal\n",
    "    residual = seasonal_decompose_result.resid\n",
    "    \n",
    "    return seasonal_decompose_result.plot();"
   ]
  },
  {
   "cell_type": "code",
   "execution_count": 42,
   "id": "dd3d01af",
   "metadata": {},
   "outputs": [
    {
     "data": {
      "image/png": "[encoded data removed]",
      "text/plain": [
       "<Figure size 640x480 with 4 Axes>"
      ]
     },
     "metadata": {},
     "output_type": "display_data"
    }
   ],
   "source": [
    "# seasonal decomposition on humidity column\n",
    "decompose(df_season,'humidity', period=7);"
   ]
  },
  {
   "cell_type": "code",
   "execution_count": 43,
   "id": "ee3736c2",
   "metadata": {},
   "outputs": [
    {
     "data": {
      "image/png": "[encoded data removed]",
      "text/plain": [
       "<Figure size 640x480 with 4 Axes>"
      ]
     },
     "metadata": {},
     "output_type": "display_data"
    }
   ],
   "source": [
    "# seasonal decomposition on windspeed\n",
    "decompose(df_season, 'windspeed', period=7);"
   ]
  },
  {
   "cell_type": "code",
   "execution_count": 44,
   "id": "bbe775eb",
   "metadata": {},
   "outputs": [
    {
     "data": {
      "image/png": "[encoded data removed]",
      "text/plain": [
       "<Figure size 640x480 with 4 Axes>"
      ]
     },
     "metadata": {},
     "output_type": "display_data"
    }
   ],
   "source": [
    "# seasonal decomposition on demand\n",
    "decompose(df_season, 'demand');"
   ]
  },
  {
   "cell_type": "markdown",
   "id": "bd608cdf",
   "metadata": {},
   "source": [
    "> The seasonal decompositions show that there is seasonality in the data as there are repetitive patterns observed\n",
    "\n",
    "These seasonality and cyclic patterns are easily observed on a __weekly__ average breakdown of the data"
   ]
  },
  {
   "cell_type": "markdown",
   "id": "658e1b3b",
   "metadata": {},
   "source": [
    "### Building Supervised Learning algorithms <a id=topic6></a>\n",
    "\n",
    "See [table of contents](#content)"
   ]
  },
  {
   "cell_type": "markdown",
   "id": "832db1eb",
   "metadata": {},
   "source": [
    "#### 4. Use an ARIMA model to predict the weekly average demand rate. Consider 30 percent of data for testing."
   ]
  },
  {
   "cell_type": "code",
   "execution_count": 15,
   "id": "4bbfec98",
   "metadata": {},
   "outputs": [],
   "source": [
    "# import ARIMA model and evaluation metrics\n",
    "\n",
    "from statsmodels.tsa.arima.model import ARIMA\n",
    "from sklearn.metrics import mean_squared_error, r2_score"
   ]
  },
  {
   "cell_type": "code",
   "execution_count": 16,
   "id": "7252df39",
   "metadata": {},
   "outputs": [],
   "source": [
    "# get the weekly average demand\n",
    "arima_df = df.set_index('timestamp')\n",
    "arima_df = arima_df.resample('W').mean()\n",
    "arima_df.dropna(inplace=True, how='all')\n",
    "\n",
    "# split the data into training and test sets\n",
    "train_size = int(0.7*len(arima_df))  # calculate the training data size\n",
    "\n",
    "train_data = arima_df.iloc[:train_size].demand.values\n",
    "test_data = arima_df.iloc[train_size:].demand.values"
   ]
  },
  {
   "cell_type": "code",
   "execution_count": 17,
   "id": "d2e62af2",
   "metadata": {},
   "outputs": [],
   "source": [
    "# build the arima model\n",
    "\n",
    "model = ARIMA(train_data, order=(2,2,2))"
   ]
  },
  {
   "cell_type": "code",
   "execution_count": 18,
   "id": "6fa67730",
   "metadata": {},
   "outputs": [],
   "source": [
    "result = model.fit() # fit the model"
   ]
  },
  {
   "cell_type": "code",
   "execution_count": 32,
   "id": "710d40cd",
   "metadata": {},
   "outputs": [],
   "source": [
    "# make predictions for the next points using the shape of the test set\n",
    "preds = result.predict(start=int(train_data.shape[0])+1, end=int(test_data.shape[0])+int(train_data.shape[0])) "
   ]
  },
  {
   "cell_type": "code",
   "execution_count": 33,
   "id": "e95f5dc8",
   "metadata": {},
   "outputs": [
    {
     "name": "stdout",
     "output_type": "stream",
     "text": [
      "Mean squared error: 0.07\n",
      "R squared score: -0.16 \n"
     ]
    }
   ],
   "source": [
    "print('Mean squared error: %.2f' % mean_squared_error(test_data, preds))\n",
    "print('R squared score: %.2f ' % r2_score(test_data, preds))"
   ]
  },
  {
   "cell_type": "code",
   "execution_count": 135,
   "id": "00712c8f",
   "metadata": {},
   "outputs": [
    {
     "data": {
      "image/png": "[encoded data removed]",
      "text/plain": [
       "<Figure size 640x480 with 1 Axes>"
      ]
     },
     "metadata": {},
     "output_type": "display_data"
    }
   ],
   "source": [
    "# visualise model performance\n",
    "plt.hist(test_data, bins =30, alpha=0.6)\n",
    "plt.hist(preds, bins =30, alpha=0.6);"
   ]
  },
  {
   "cell_type": "markdown",
   "id": "2c6ab26b",
   "metadata": {},
   "source": [
    "The negative R-squared score and the relatively high MSE suggest that the model is not capturing the underlying patterns or relationships in the data accurately.This could be due to several reasons such as underfitting, inappropriate choice of features, or insufficient data."
   ]
  },
  {
   "cell_type": "markdown",
   "id": "72c0633d",
   "metadata": {},
   "source": [
    "#### 5. Use a random forest regressor and a deep neural network to predict the demand rate and report the minimum square error for each model. Which one is working better? Why? Please describe the reason."
   ]
  },
  {
   "cell_type": "code",
   "execution_count": 9,
   "id": "aad01928",
   "metadata": {},
   "outputs": [],
   "source": [
    "# for the randomforest algorithm\n",
    "\n",
    "from sklearn.ensemble import RandomForestRegressor\n",
    "from sklearn.model_selection import train_test_split\n",
    "from sklearn.metrics import mean_absolute_error, mean_squared_error\n",
    "import numpy as np"
   ]
  },
  {
   "cell_type": "markdown",
   "id": "b937e145",
   "metadata": {},
   "source": [
    "#### Preprocessing the data for supervised ML algorithms"
   ]
  },
  {
   "cell_type": "code",
   "execution_count": 12,
   "id": "b23df666",
   "metadata": {},
   "outputs": [
    {
     "data": {
      "text/plain": [
       "(8708, 10)"
      ]
     },
     "execution_count": 12,
     "metadata": {},
     "output_type": "execute_result"
    }
   ],
   "source": [
    "df.shape"
   ]
  },
  {
   "cell_type": "code",
   "execution_count": 13,
   "id": "fd510acc",
   "metadata": {
    "scrolled": true
   },
   "outputs": [
    {
     "data": {
      "text/html": [
       "<div>\n",
       "<style scoped>\n",
       "    .dataframe tbody tr th:only-of-type {\n",
       "        vertical-align: middle;\n",
       "    }\n",
       "\n",
       "    .dataframe tbody tr th {\n",
       "        vertical-align: top;\n",
       "    }\n",
       "\n",
       "    .dataframe thead th {\n",
       "        text-align: right;\n",
       "    }\n",
       "</style>\n",
       "<table border=\"1\" class=\"dataframe\">\n",
       "  <thead>\n",
       "    <tr style=\"text-align: right;\">\n",
       "      <th></th>\n",
       "      <th>id</th>\n",
       "      <th>timestamp</th>\n",
       "      <th>season</th>\n",
       "      <th>holiday</th>\n",
       "      <th>workingday</th>\n",
       "      <th>humidity</th>\n",
       "      <th>windspeed</th>\n",
       "      <th>demand</th>\n",
       "      <th>temp_category</th>\n",
       "      <th>weather_code</th>\n",
       "    </tr>\n",
       "  </thead>\n",
       "  <tbody>\n",
       "    <tr>\n",
       "      <th>0</th>\n",
       "      <td>1</td>\n",
       "      <td>2017-01-01 00:00:00</td>\n",
       "      <td>spring</td>\n",
       "      <td>No</td>\n",
       "      <td>No</td>\n",
       "      <td>81.0</td>\n",
       "      <td>0.0</td>\n",
       "      <td>2.772589</td>\n",
       "      <td>Mild</td>\n",
       "      <td>1</td>\n",
       "    </tr>\n",
       "    <tr>\n",
       "      <th>1</th>\n",
       "      <td>2</td>\n",
       "      <td>2017-01-01 01:00:00</td>\n",
       "      <td>spring</td>\n",
       "      <td>No</td>\n",
       "      <td>No</td>\n",
       "      <td>80.0</td>\n",
       "      <td>0.0</td>\n",
       "      <td>3.688879</td>\n",
       "      <td>Mild</td>\n",
       "      <td>1</td>\n",
       "    </tr>\n",
       "    <tr>\n",
       "      <th>2</th>\n",
       "      <td>3</td>\n",
       "      <td>2017-01-01 02:00:00</td>\n",
       "      <td>spring</td>\n",
       "      <td>No</td>\n",
       "      <td>No</td>\n",
       "      <td>80.0</td>\n",
       "      <td>0.0</td>\n",
       "      <td>3.465736</td>\n",
       "      <td>Mild</td>\n",
       "      <td>1</td>\n",
       "    </tr>\n",
       "    <tr>\n",
       "      <th>3</th>\n",
       "      <td>4</td>\n",
       "      <td>2017-01-01 03:00:00</td>\n",
       "      <td>spring</td>\n",
       "      <td>No</td>\n",
       "      <td>No</td>\n",
       "      <td>75.0</td>\n",
       "      <td>0.0</td>\n",
       "      <td>2.564949</td>\n",
       "      <td>Mild</td>\n",
       "      <td>1</td>\n",
       "    </tr>\n",
       "    <tr>\n",
       "      <th>4</th>\n",
       "      <td>5</td>\n",
       "      <td>2017-01-01 04:00:00</td>\n",
       "      <td>spring</td>\n",
       "      <td>No</td>\n",
       "      <td>No</td>\n",
       "      <td>75.0</td>\n",
       "      <td>0.0</td>\n",
       "      <td>0.000000</td>\n",
       "      <td>Mild</td>\n",
       "      <td>1</td>\n",
       "    </tr>\n",
       "  </tbody>\n",
       "</table>\n",
       "</div>"
      ],
      "text/plain": [
       "   id           timestamp  season holiday workingday  humidity  windspeed  \\\n",
       "0   1 2017-01-01 00:00:00  spring      No         No      81.0        0.0   \n",
       "1   2 2017-01-01 01:00:00  spring      No         No      80.0        0.0   \n",
       "2   3 2017-01-01 02:00:00  spring      No         No      80.0        0.0   \n",
       "3   4 2017-01-01 03:00:00  spring      No         No      75.0        0.0   \n",
       "4   5 2017-01-01 04:00:00  spring      No         No      75.0        0.0   \n",
       "\n",
       "     demand temp_category  weather_code  \n",
       "0  2.772589          Mild             1  \n",
       "1  3.688879          Mild             1  \n",
       "2  3.465736          Mild             1  \n",
       "3  2.564949          Mild             1  \n",
       "4  0.000000          Mild             1  "
      ]
     },
     "execution_count": 13,
     "metadata": {},
     "output_type": "execute_result"
    }
   ],
   "source": [
    "df.head()"
   ]
  },
  {
   "cell_type": "code",
   "execution_count": 10,
   "id": "6212e265",
   "metadata": {},
   "outputs": [
    {
     "name": "stdout",
     "output_type": "stream",
     "text": [
      "<class 'pandas.core.frame.DataFrame'>\n",
      "RangeIndex: 8708 entries, 0 to 8707\n",
      "Data columns (total 10 columns):\n",
      " #   Column         Non-Null Count  Dtype         \n",
      "---  ------         --------------  -----         \n",
      " 0   id             8708 non-null   int64         \n",
      " 1   timestamp      8708 non-null   datetime64[ns]\n",
      " 2   season         8708 non-null   object        \n",
      " 3   holiday        8708 non-null   object        \n",
      " 4   workingday     8708 non-null   object        \n",
      " 5   humidity       8708 non-null   float64       \n",
      " 6   windspeed      8708 non-null   float64       \n",
      " 7   demand         8708 non-null   float64       \n",
      " 8   temp_category  8708 non-null   object        \n",
      " 9   weather_code   8708 non-null   category      \n",
      "dtypes: category(1), datetime64[ns](1), float64(3), int64(1), object(4)\n",
      "memory usage: 621.1+ KB\n"
     ]
    }
   ],
   "source": [
    "# change the datatype of weather_code attribute to categorical data type\n",
    "\n",
    "df.weather_code = df.weather_code.astype('category')\n",
    "df.info()"
   ]
  },
  {
   "cell_type": "code",
   "execution_count": 9,
   "id": "893027e9",
   "metadata": {},
   "outputs": [],
   "source": [
    "# define the columns to be used as predictors\n",
    "predictors = ['season', 'humidity', 'windspeed', 'temp_category', 'weather_code']\n",
    "\n",
    "X_df = df[predictors]"
   ]
  },
  {
   "cell_type": "code",
   "execution_count": 15,
   "id": "a115c89e",
   "metadata": {
    "scrolled": false
   },
   "outputs": [
    {
     "data": {
      "text/html": [
       "<div>\n",
       "<style scoped>\n",
       "    .dataframe tbody tr th:only-of-type {\n",
       "        vertical-align: middle;\n",
       "    }\n",
       "\n",
       "    .dataframe tbody tr th {\n",
       "        vertical-align: top;\n",
       "    }\n",
       "\n",
       "    .dataframe thead th {\n",
       "        text-align: right;\n",
       "    }\n",
       "</style>\n",
       "<table border=\"1\" class=\"dataframe\">\n",
       "  <thead>\n",
       "    <tr style=\"text-align: right;\">\n",
       "      <th></th>\n",
       "      <th>humidity</th>\n",
       "      <th>windspeed</th>\n",
       "      <th>fall</th>\n",
       "      <th>spring</th>\n",
       "      <th>summer</th>\n",
       "      <th>winter</th>\n",
       "      <th>Cold</th>\n",
       "      <th>Hot</th>\n",
       "      <th>Mild</th>\n",
       "      <th>one</th>\n",
       "      <th>two</th>\n",
       "      <th>three</th>\n",
       "      <th>four</th>\n",
       "    </tr>\n",
       "  </thead>\n",
       "  <tbody>\n",
       "    <tr>\n",
       "      <th>0</th>\n",
       "      <td>81.0</td>\n",
       "      <td>0.0</td>\n",
       "      <td>0</td>\n",
       "      <td>1</td>\n",
       "      <td>0</td>\n",
       "      <td>0</td>\n",
       "      <td>0</td>\n",
       "      <td>0</td>\n",
       "      <td>1</td>\n",
       "      <td>1</td>\n",
       "      <td>0</td>\n",
       "      <td>0</td>\n",
       "      <td>0</td>\n",
       "    </tr>\n",
       "    <tr>\n",
       "      <th>1</th>\n",
       "      <td>80.0</td>\n",
       "      <td>0.0</td>\n",
       "      <td>0</td>\n",
       "      <td>1</td>\n",
       "      <td>0</td>\n",
       "      <td>0</td>\n",
       "      <td>0</td>\n",
       "      <td>0</td>\n",
       "      <td>1</td>\n",
       "      <td>1</td>\n",
       "      <td>0</td>\n",
       "      <td>0</td>\n",
       "      <td>0</td>\n",
       "    </tr>\n",
       "    <tr>\n",
       "      <th>2</th>\n",
       "      <td>80.0</td>\n",
       "      <td>0.0</td>\n",
       "      <td>0</td>\n",
       "      <td>1</td>\n",
       "      <td>0</td>\n",
       "      <td>0</td>\n",
       "      <td>0</td>\n",
       "      <td>0</td>\n",
       "      <td>1</td>\n",
       "      <td>1</td>\n",
       "      <td>0</td>\n",
       "      <td>0</td>\n",
       "      <td>0</td>\n",
       "    </tr>\n",
       "    <tr>\n",
       "      <th>3</th>\n",
       "      <td>75.0</td>\n",
       "      <td>0.0</td>\n",
       "      <td>0</td>\n",
       "      <td>1</td>\n",
       "      <td>0</td>\n",
       "      <td>0</td>\n",
       "      <td>0</td>\n",
       "      <td>0</td>\n",
       "      <td>1</td>\n",
       "      <td>1</td>\n",
       "      <td>0</td>\n",
       "      <td>0</td>\n",
       "      <td>0</td>\n",
       "    </tr>\n",
       "    <tr>\n",
       "      <th>4</th>\n",
       "      <td>75.0</td>\n",
       "      <td>0.0</td>\n",
       "      <td>0</td>\n",
       "      <td>1</td>\n",
       "      <td>0</td>\n",
       "      <td>0</td>\n",
       "      <td>0</td>\n",
       "      <td>0</td>\n",
       "      <td>1</td>\n",
       "      <td>1</td>\n",
       "      <td>0</td>\n",
       "      <td>0</td>\n",
       "      <td>0</td>\n",
       "    </tr>\n",
       "  </tbody>\n",
       "</table>\n",
       "</div>"
      ],
      "text/plain": [
       "   humidity  windspeed  fall  spring  summer  winter  Cold  Hot  Mild  one  \\\n",
       "0      81.0        0.0     0       1       0       0     0    0     1    1   \n",
       "1      80.0        0.0     0       1       0       0     0    0     1    1   \n",
       "2      80.0        0.0     0       1       0       0     0    0     1    1   \n",
       "3      75.0        0.0     0       1       0       0     0    0     1    1   \n",
       "4      75.0        0.0     0       1       0       0     0    0     1    1   \n",
       "\n",
       "   two  three  four  \n",
       "0    0      0     0  \n",
       "1    0      0     0  \n",
       "2    0      0     0  \n",
       "3    0      0     0  \n",
       "4    0      0     0  "
      ]
     },
     "execution_count": 15,
     "metadata": {},
     "output_type": "execute_result"
    }
   ],
   "source": [
    "obj_column = ['season', 'temp_category', 'weather_code']\n",
    "\n",
    "# loop through the list to get dummies for each column\n",
    "for item in obj_column:\n",
    "    X_new = pd.get_dummies(df[item])\n",
    "    X_df = pd.concat([X_df, X_new], axis=1)\n",
    "\n",
    "X_df = X_df.drop(columns=obj_column)\n",
    "X_df.rename(columns = {1:'one', 2:'two', 3:'three', 4:'four'}, inplace=True)\n",
    "X_df.head()"
   ]
  },
  {
   "cell_type": "code",
   "execution_count": 16,
   "id": "99826b7a",
   "metadata": {},
   "outputs": [
    {
     "name": "stdout",
     "output_type": "stream",
     "text": [
      "(6095, 13) (6095,)\n",
      "(2613, 13) (2613,)\n"
     ]
    }
   ],
   "source": [
    "# create the predictors and target variables from the dataframe\n",
    "X = X_df.values\n",
    "y = df.demand.values\n",
    "\n",
    "# split the data with 30% as test set\n",
    "train_size = int(0.7*df.shape[0])\n",
    "X_train = X[:train_size]\n",
    "X_test = X[train_size:]\n",
    "y_train = y[:train_size]\n",
    "y_test = y[train_size:]\n",
    "\n",
    "print(X_train.shape, y_train.shape)\n",
    "print(X_test.shape, y_test.shape)"
   ]
  },
  {
   "cell_type": "code",
   "execution_count": 44,
   "id": "797c47b4",
   "metadata": {},
   "outputs": [
    {
     "data": {
      "text/plain": [
       "RandomForestRegressor()"
      ]
     },
     "execution_count": 44,
     "metadata": {},
     "output_type": "execute_result"
    }
   ],
   "source": [
    "forest_model = RandomForestRegressor()\n",
    "forest_model.fit(X_train, y_train)"
   ]
  },
  {
   "cell_type": "code",
   "execution_count": 45,
   "id": "7c652e39",
   "metadata": {},
   "outputs": [],
   "source": [
    "predictions = forest_model.predict(X_test)"
   ]
  },
  {
   "cell_type": "code",
   "execution_count": 48,
   "id": "e2498bf2",
   "metadata": {
    "scrolled": true
   },
   "outputs": [
    {
     "name": "stdout",
     "output_type": "stream",
     "text": [
      "Mean squared error: 2.22\n",
      "Mean absolute error: 1.16\n"
     ]
    }
   ],
   "source": [
    "print('Mean squared error: %.2f' % mean_squared_error(y_test, predictions))\n",
    "print('Mean absolute error: %.2f' % mean_absolute_error(y_test, predictions))"
   ]
  },
  {
   "cell_type": "code",
   "execution_count": 63,
   "id": "b5cd1848",
   "metadata": {},
   "outputs": [
    {
     "data": {
      "image/png": "[encoded data removed]",
      "text/plain": [
       "<Figure size 640x480 with 1 Axes>"
      ]
     },
     "metadata": {},
     "output_type": "display_data"
    }
   ],
   "source": [
    "# visualize performance of deep net against the target variables\n",
    "plt.hist(y_test, bins =30, alpha=0.4, color='blue')\n",
    "plt.hist(predictions, bins =30, alpha=0.5, color='grey');"
   ]
  },
  {
   "cell_type": "code",
   "execution_count": 138,
   "id": "e27f2f5c",
   "metadata": {
    "collapsed": true
   },
   "outputs": [
    {
     "name": "stdout",
     "output_type": "stream",
     "text": [
      "Collecting keras\n",
      "  Downloading keras-2.12.0-py2.py3-none-any.whl (1.7 MB)\n",
      "     ---------------------------------------- 1.7/1.7 MB 340.2 kB/s eta 0:00:00\n",
      "Installing collected packages: keras\n",
      "Successfully installed keras-2.12.0\n"
     ]
    }
   ],
   "source": [
    "# !pip install keras # install keras library if not already installe"
   ]
  },
  {
   "cell_type": "code",
   "execution_count": 1,
   "id": "41e9f4a4",
   "metadata": {
    "collapsed": true
   },
   "outputs": [
    {
     "name": "stdout",
     "output_type": "stream",
     "text": [
      "Requirement already satisfied: tensorflow in c:\\users\\user\\anaconda3\\lib\\site-packages (2.12.0)\n",
      "Requirement already satisfied: tensorflow-intel==2.12.0 in c:\\users\\user\\anaconda3\\lib\\site-packages (from tensorflow) (2.12.0)\n",
      "Requirement already satisfied: google-pasta>=0.1.1 in c:\\users\\user\\anaconda3\\lib\\site-packages (from tensorflow-intel==2.12.0->tensorflow) (0.2.0)\n",
      "Requirement already satisfied: flatbuffers>=2.0 in c:\\users\\user\\anaconda3\\lib\\site-packages (from tensorflow-intel==2.12.0->tensorflow) (23.5.26)\n",
      "Requirement already satisfied: setuptools in c:\\users\\user\\anaconda3\\lib\\site-packages (from tensorflow-intel==2.12.0->tensorflow) (63.4.1)\n",
      "Requirement already satisfied: opt-einsum>=2.3.2 in c:\\users\\user\\anaconda3\\lib\\site-packages (from tensorflow-intel==2.12.0->tensorflow) (3.3.0)\n",
      "Requirement already satisfied: libclang>=13.0.0 in c:\\users\\user\\anaconda3\\lib\\site-packages (from tensorflow-intel==2.12.0->tensorflow) (16.0.0)\n",
      "Requirement already satisfied: protobuf!=4.21.0,!=4.21.1,!=4.21.2,!=4.21.3,!=4.21.4,!=4.21.5,<5.0.0dev,>=3.20.3 in c:\\users\\user\\anaconda3\\lib\\site-packages (from tensorflow-intel==2.12.0->tensorflow) (4.23.3)\n",
      "Requirement already satisfied: termcolor>=1.1.0 in c:\\users\\user\\anaconda3\\lib\\site-packages (from tensorflow-intel==2.12.0->tensorflow) (2.3.0)\n",
      "Requirement already satisfied: gast<=0.4.0,>=0.2.1 in c:\\users\\user\\anaconda3\\lib\\site-packages (from tensorflow-intel==2.12.0->tensorflow) (0.4.0)\n",
      "Requirement already satisfied: keras<2.13,>=2.12.0 in c:\\users\\user\\anaconda3\\lib\\site-packages (from tensorflow-intel==2.12.0->tensorflow) (2.12.0)\n",
      "Requirement already satisfied: jax>=0.3.15 in c:\\users\\user\\anaconda3\\lib\\site-packages (from tensorflow-intel==2.12.0->tensorflow) (0.4.12)\n",
      "Requirement already satisfied: six>=1.12.0 in c:\\users\\user\\anaconda3\\lib\\site-packages (from tensorflow-intel==2.12.0->tensorflow) (1.16.0)\n",
      "Requirement already satisfied: tensorflow-io-gcs-filesystem>=0.23.1 in c:\\users\\user\\anaconda3\\lib\\site-packages (from tensorflow-intel==2.12.0->tensorflow) (0.31.0)\n",
      "Requirement already satisfied: absl-py>=1.0.0 in c:\\users\\user\\anaconda3\\lib\\site-packages (from tensorflow-intel==2.12.0->tensorflow) (1.4.0)\n",
      "Requirement already satisfied: tensorboard<2.13,>=2.12 in c:\\users\\user\\anaconda3\\lib\\site-packages (from tensorflow-intel==2.12.0->tensorflow) (2.12.3)\n",
      "Requirement already satisfied: h5py>=2.9.0 in c:\\users\\user\\anaconda3\\lib\\site-packages (from tensorflow-intel==2.12.0->tensorflow) (3.7.0)\n",
      "Requirement already satisfied: packaging in c:\\users\\user\\anaconda3\\lib\\site-packages (from tensorflow-intel==2.12.0->tensorflow) (21.3)\n",
      "Requirement already satisfied: typing-extensions>=3.6.6 in c:\\users\\user\\anaconda3\\lib\\site-packages (from tensorflow-intel==2.12.0->tensorflow) (4.3.0)\n",
      "Requirement already satisfied: grpcio<2.0,>=1.24.3 in c:\\users\\user\\anaconda3\\lib\\site-packages (from tensorflow-intel==2.12.0->tensorflow) (1.54.2)\n",
      "Requirement already satisfied: tensorflow-estimator<2.13,>=2.12.0 in c:\\users\\user\\anaconda3\\lib\\site-packages (from tensorflow-intel==2.12.0->tensorflow) (2.12.0)\n",
      "Requirement already satisfied: numpy<1.24,>=1.22 in c:\\users\\user\\anaconda3\\lib\\site-packages (from tensorflow-intel==2.12.0->tensorflow) (1.23.5)\n",
      "Requirement already satisfied: astunparse>=1.6.0 in c:\\users\\user\\anaconda3\\lib\\site-packages (from tensorflow-intel==2.12.0->tensorflow) (1.6.3)\n",
      "Requirement already satisfied: wrapt<1.15,>=1.11.0 in c:\\users\\user\\anaconda3\\lib\\site-packages (from tensorflow-intel==2.12.0->tensorflow) (1.14.1)\n",
      "Requirement already satisfied: wheel<1.0,>=0.23.0 in c:\\users\\user\\anaconda3\\lib\\site-packages (from astunparse>=1.6.0->tensorflow-intel==2.12.0->tensorflow) (0.37.1)\n",
      "Requirement already satisfied: ml-dtypes>=0.1.0 in c:\\users\\user\\anaconda3\\lib\\site-packages (from jax>=0.3.15->tensorflow-intel==2.12.0->tensorflow) (0.2.0)\n",
      "Requirement already satisfied: importlib-metadata>=4.6 in c:\\users\\user\\anaconda3\\lib\\site-packages (from jax>=0.3.15->tensorflow-intel==2.12.0->tensorflow) (4.11.3)\n",
      "Requirement already satisfied: scipy>=1.7 in c:\\users\\user\\anaconda3\\lib\\site-packages (from jax>=0.3.15->tensorflow-intel==2.12.0->tensorflow) (1.9.1)\n",
      "Requirement already satisfied: google-auth-oauthlib<1.1,>=0.5 in c:\\users\\user\\anaconda3\\lib\\site-packages (from tensorboard<2.13,>=2.12->tensorflow-intel==2.12.0->tensorflow) (1.0.0)\n",
      "Requirement already satisfied: google-auth<3,>=1.6.3 in c:\\users\\user\\anaconda3\\lib\\site-packages (from tensorboard<2.13,>=2.12->tensorflow-intel==2.12.0->tensorflow) (2.20.0)\n",
      "Requirement already satisfied: tensorboard-data-server<0.8.0,>=0.7.0 in c:\\users\\user\\anaconda3\\lib\\site-packages (from tensorboard<2.13,>=2.12->tensorflow-intel==2.12.0->tensorflow) (0.7.1)\n",
      "Requirement already satisfied: requests<3,>=2.21.0 in c:\\users\\user\\anaconda3\\lib\\site-packages (from tensorboard<2.13,>=2.12->tensorflow-intel==2.12.0->tensorflow) (2.28.1)\n",
      "Requirement already satisfied: markdown>=2.6.8 in c:\\users\\user\\anaconda3\\lib\\site-packages (from tensorboard<2.13,>=2.12->tensorflow-intel==2.12.0->tensorflow) (3.3.4)\n",
      "Requirement already satisfied: werkzeug>=1.0.1 in c:\\users\\user\\anaconda3\\lib\\site-packages (from tensorboard<2.13,>=2.12->tensorflow-intel==2.12.0->tensorflow) (2.0.3)\n",
      "Requirement already satisfied: pyparsing!=3.0.5,>=2.0.2 in c:\\users\\user\\anaconda3\\lib\\site-packages (from packaging->tensorflow-intel==2.12.0->tensorflow) (3.0.9)\n",
      "Requirement already satisfied: pyasn1-modules>=0.2.1 in c:\\users\\user\\anaconda3\\lib\\site-packages (from google-auth<3,>=1.6.3->tensorboard<2.13,>=2.12->tensorflow-intel==2.12.0->tensorflow) (0.2.8)\n",
      "Requirement already satisfied: rsa<5,>=3.1.4 in c:\\users\\user\\anaconda3\\lib\\site-packages (from google-auth<3,>=1.6.3->tensorboard<2.13,>=2.12->tensorflow-intel==2.12.0->tensorflow) (4.9)\n",
      "Requirement already satisfied: cachetools<6.0,>=2.0.0 in c:\\users\\user\\anaconda3\\lib\\site-packages (from google-auth<3,>=1.6.3->tensorboard<2.13,>=2.12->tensorflow-intel==2.12.0->tensorflow) (5.3.1)\n",
      "Requirement already satisfied: urllib3<2.0 in c:\\users\\user\\anaconda3\\lib\\site-packages (from google-auth<3,>=1.6.3->tensorboard<2.13,>=2.12->tensorflow-intel==2.12.0->tensorflow) (1.26.11)\n",
      "Requirement already satisfied: requests-oauthlib>=0.7.0 in c:\\users\\user\\anaconda3\\lib\\site-packages (from google-auth-oauthlib<1.1,>=0.5->tensorboard<2.13,>=2.12->tensorflow-intel==2.12.0->tensorflow) (1.3.1)\n",
      "Requirement already satisfied: zipp>=0.5 in c:\\users\\user\\anaconda3\\lib\\site-packages (from importlib-metadata>=4.6->jax>=0.3.15->tensorflow-intel==2.12.0->tensorflow) (3.8.0)\n",
      "Requirement already satisfied: idna<4,>=2.5 in c:\\users\\user\\anaconda3\\lib\\site-packages (from requests<3,>=2.21.0->tensorboard<2.13,>=2.12->tensorflow-intel==2.12.0->tensorflow) (3.3)\n",
      "Requirement already satisfied: certifi>=2017.4.17 in c:\\users\\user\\anaconda3\\lib\\site-packages (from requests<3,>=2.21.0->tensorboard<2.13,>=2.12->tensorflow-intel==2.12.0->tensorflow) (2022.9.14)\n",
      "Requirement already satisfied: charset-normalizer<3,>=2 in c:\\users\\user\\anaconda3\\lib\\site-packages (from requests<3,>=2.21.0->tensorboard<2.13,>=2.12->tensorflow-intel==2.12.0->tensorflow) (2.0.4)\n",
      "Requirement already satisfied: pyasn1<0.5.0,>=0.4.6 in c:\\users\\user\\anaconda3\\lib\\site-packages (from pyasn1-modules>=0.2.1->google-auth<3,>=1.6.3->tensorboard<2.13,>=2.12->tensorflow-intel==2.12.0->tensorflow) (0.4.8)\n",
      "Requirement already satisfied: oauthlib>=3.0.0 in c:\\users\\user\\anaconda3\\lib\\site-packages (from requests-oauthlib>=0.7.0->google-auth-oauthlib<1.1,>=0.5->tensorboard<2.13,>=2.12->tensorflow-intel==2.12.0->tensorflow) (3.2.2)\n"
     ]
    }
   ],
   "source": [
    "# !pip install tensorflow # install tensorflow if not already installed"
   ]
  },
  {
   "cell_type": "markdown",
   "id": "4553639e",
   "metadata": {},
   "source": [
    "### Bulding Neural Nets <a id=topic7></a>\n",
    "\n",
    "See [table of contents](#content)"
   ]
  },
  {
   "cell_type": "code",
   "execution_count": 64,
   "id": "fab2f91b",
   "metadata": {},
   "outputs": [],
   "source": [
    "# import necessary libraries to build the deep nets\n",
    "\n",
    "from keras.models import Sequential\n",
    "from keras.layers import GRU, Dense\n",
    "from sklearn.preprocessing import StandardScaler, MinMaxScaler"
   ]
  },
  {
   "cell_type": "code",
   "execution_count": 65,
   "id": "fcfb50da",
   "metadata": {},
   "outputs": [
    {
     "name": "stdout",
     "output_type": "stream",
     "text": [
      "Train set\n",
      "(6095, 1, 13) (6095,)\n",
      "\n",
      "Test set\n",
      "(2613, 1, 13) (2613,)\n"
     ]
    }
   ],
   "source": [
    "# reshape the data set for suitability with the deep learning model\n",
    "\n",
    "X_train = np.reshape(X_train, (X_train.shape[0], 1, X_train.shape[1]))\n",
    "X_test = np.reshape(X_test, (X_test.shape[0], 1, X_test.shape[1]))\n",
    "\n",
    "print('Train set')\n",
    "print(X_train.shape, y_train.shape)\n",
    "\n",
    "print()\n",
    "print('Test set')\n",
    "print(X_test.shape, y_test.shape)"
   ]
  },
  {
   "cell_type": "code",
   "execution_count": 108,
   "id": "c49b0e94",
   "metadata": {},
   "outputs": [],
   "source": [
    "# build the layers of the RNN model (GRU)\n",
    "gru_model = Sequential()\n",
    "gru_model.add(GRU(units=20, activation='relu', return_sequences=True, input_shape=(1, X.shape[1])))# one input layer and one hidden layer\n",
    "gru_model.add(GRU(units=10, activation='relu') # add a second layer to the neural net\n",
    "gru_model.add(Dense(units=1)) #output layer\n",
    "\n",
    "# specify how the data should be compiled\n",
    "gru_model.compile(optimizer='adam', loss='mean_squared_error')"
   ]
  },
  {
   "cell_type": "code",
   "execution_count": 109,
   "id": "0ab8ad66",
   "metadata": {
    "collapsed": true
   },
   "outputs": [
    {
     "name": "stdout",
     "output_type": "stream",
     "text": [
      "Epoch 1/50\n",
      "191/191 [==============================] - 2s 2ms/step - loss: 3.7326\n",
      "Epoch 2/50\n",
      "191/191 [==============================] - 0s 2ms/step - loss: 1.7812\n",
      "Epoch 3/50\n",
      "191/191 [==============================] - 0s 2ms/step - loss: 1.6819\n",
      "Epoch 4/50\n",
      "191/191 [==============================] - 0s 2ms/step - loss: 1.6713\n",
      "Epoch 5/50\n",
      "191/191 [==============================] - 0s 2ms/step - loss: 1.6990\n",
      "Epoch 6/50\n",
      "191/191 [==============================] - 0s 2ms/step - loss: 1.6727\n",
      "Epoch 7/50\n",
      "191/191 [==============================] - 0s 3ms/step - loss: 1.6654\n",
      "Epoch 8/50\n",
      "191/191 [==============================] - 0s 2ms/step - loss: 1.6683\n",
      "Epoch 9/50\n",
      "191/191 [==============================] - 0s 2ms/step - loss: 1.6651\n",
      "Epoch 10/50\n",
      "191/191 [==============================] - 0s 2ms/step - loss: 1.6572\n",
      "Epoch 11/50\n",
      "191/191 [==============================] - 0s 2ms/step - loss: 1.6658\n",
      "Epoch 12/50\n",
      "191/191 [==============================] - 0s 2ms/step - loss: 1.6625\n",
      "Epoch 13/50\n",
      "191/191 [==============================] - 0s 2ms/step - loss: 1.6600\n",
      "Epoch 14/50\n",
      "191/191 [==============================] - 0s 3ms/step - loss: 1.6588\n",
      "Epoch 15/50\n",
      "191/191 [==============================] - 0s 3ms/step - loss: 1.6537\n",
      "Epoch 16/50\n",
      "191/191 [==============================] - 1s 3ms/step - loss: 1.6544\n",
      "Epoch 17/50\n",
      "191/191 [==============================] - 0s 3ms/step - loss: 1.6558\n",
      "Epoch 18/50\n",
      "191/191 [==============================] - 1s 3ms/step - loss: 1.6478\n",
      "Epoch 19/50\n",
      "191/191 [==============================] - 1s 3ms/step - loss: 1.6439\n",
      "Epoch 20/50\n",
      "191/191 [==============================] - 0s 2ms/step - loss: 1.6576\n",
      "Epoch 21/50\n",
      "191/191 [==============================] - 0s 2ms/step - loss: 1.6346\n",
      "Epoch 22/50\n",
      "191/191 [==============================] - 0s 2ms/step - loss: 1.6520\n",
      "Epoch 23/50\n",
      "191/191 [==============================] - 0s 2ms/step - loss: 1.6518\n",
      "Epoch 24/50\n",
      "191/191 [==============================] - 0s 2ms/step - loss: 1.6441\n",
      "Epoch 25/50\n",
      "191/191 [==============================] - 1s 3ms/step - loss: 1.6478\n",
      "Epoch 26/50\n",
      "191/191 [==============================] - 0s 2ms/step - loss: 1.6472\n",
      "Epoch 27/50\n",
      "191/191 [==============================] - 0s 2ms/step - loss: 1.6495\n",
      "Epoch 28/50\n",
      "191/191 [==============================] - 0s 2ms/step - loss: 1.6474\n",
      "Epoch 29/50\n",
      "191/191 [==============================] - 1s 3ms/step - loss: 1.6564\n",
      "Epoch 30/50\n",
      "191/191 [==============================] - 1s 3ms/step - loss: 1.6498\n",
      "Epoch 31/50\n",
      "191/191 [==============================] - 1s 3ms/step - loss: 1.6687\n",
      "Epoch 32/50\n",
      "191/191 [==============================] - 1s 3ms/step - loss: 1.6504\n",
      "Epoch 33/50\n",
      "191/191 [==============================] - 1s 3ms/step - loss: 1.6306\n",
      "Epoch 34/50\n",
      "191/191 [==============================] - 0s 3ms/step - loss: 1.6505\n",
      "Epoch 35/50\n",
      "191/191 [==============================] - 1s 3ms/step - loss: 1.6358\n",
      "Epoch 36/50\n",
      "191/191 [==============================] - 0s 3ms/step - loss: 1.6600\n",
      "Epoch 37/50\n",
      "191/191 [==============================] - 0s 3ms/step - loss: 1.6226\n",
      "Epoch 38/50\n",
      "191/191 [==============================] - 0s 2ms/step - loss: 1.6280\n",
      "Epoch 39/50\n",
      "191/191 [==============================] - 0s 3ms/step - loss: 1.6277\n",
      "Epoch 40/50\n",
      "191/191 [==============================] - 1s 3ms/step - loss: 1.6340\n",
      "Epoch 41/50\n",
      "191/191 [==============================] - 0s 2ms/step - loss: 1.6216\n",
      "Epoch 42/50\n",
      "191/191 [==============================] - 0s 3ms/step - loss: 1.6279\n",
      "Epoch 43/50\n",
      "191/191 [==============================] - 1s 3ms/step - loss: 1.6232\n",
      "Epoch 44/50\n",
      "191/191 [==============================] - 0s 2ms/step - loss: 1.6410\n",
      "Epoch 45/50\n",
      "191/191 [==============================] - 1s 3ms/step - loss: 1.6410\n",
      "Epoch 46/50\n",
      "191/191 [==============================] - 1s 3ms/step - loss: 1.6352\n",
      "Epoch 47/50\n",
      "191/191 [==============================] - 0s 2ms/step - loss: 1.6232\n",
      "Epoch 48/50\n",
      "191/191 [==============================] - 0s 2ms/step - loss: 1.6342\n",
      "Epoch 49/50\n",
      "191/191 [==============================] - 0s 3ms/step - loss: 1.6277\n",
      "Epoch 50/50\n",
      "191/191 [==============================] - 0s 2ms/step - loss: 1.6229\n"
     ]
    }
   ],
   "source": [
    "# create function to train the GRU model \n",
    "\n",
    "def train_model():\n",
    "    gru_model.fit(X_train, y_train, epochs=50, batch_size=32)\n",
    "\n",
    "train_model()"
   ]
  },
  {
   "cell_type": "code",
   "execution_count": 110,
   "id": "06797be7",
   "metadata": {
    "collapsed": true
   },
   "outputs": [
    {
     "name": "stdout",
     "output_type": "stream",
     "text": [
      "82/82 [==============================] - 0s 2ms/step\n"
     ]
    },
    {
     "data": {
      "text/plain": [
       "array([[4.3520565],\n",
       "       [3.2591062],\n",
       "       [3.93645  ],\n",
       "       ...,\n",
       "       [4.998337 ],\n",
       "       [4.6697073],\n",
       "       [4.6697073]], dtype=float32)"
      ]
     },
     "execution_count": 110,
     "metadata": {},
     "output_type": "execute_result"
    }
   ],
   "source": [
    "# store predictions from GRU to a variable\n",
    "predictions = gru_model.predict(X_test)\n",
    "predictions"
   ]
  },
  {
   "cell_type": "code",
   "execution_count": 111,
   "id": "8318a95e",
   "metadata": {},
   "outputs": [
    {
     "name": "stdout",
     "output_type": "stream",
     "text": [
      "Mean squared error: 1.73\n",
      "Mean absolute error: 1.01\n"
     ]
    }
   ],
   "source": [
    "# print evaluation score for the deep net\n",
    "print('Mean squared error: %.2f' % mean_squared_error(y_test, predictions))\n",
    "print('Mean absolute error: %.2f' % mean_absolute_error(y_test, predictions))"
   ]
  },
  {
   "cell_type": "code",
   "execution_count": 112,
   "id": "6ac59ad0",
   "metadata": {
    "scrolled": true
   },
   "outputs": [
    {
     "data": {
      "image/png": "[encoded data removed]",
      "text/plain": [
       "<Figure size 640x480 with 1 Axes>"
      ]
     },
     "metadata": {},
     "output_type": "display_data"
    }
   ],
   "source": [
    "# visualize performance of deep net against the target variables\n",
    "plt.hist(y_test, bins =20, alpha=0.4, color='blue')\n",
    "plt.hist(predictions, bins =20, alpha=0.5, color='grey');"
   ]
  },
  {
   "cell_type": "markdown",
   "id": "b86ad3a4",
   "metadata": {},
   "source": [
    "#### Which model between the Random Froest and Deep Learning works better and why?\n",
    "\n",
    "> The Deep learing model works better than the Random forest model in predicting demand due to a number of vital reasons associated with each model's design\n",
    "\n",
    "The following metrics show that the Random forest model performed poorer than the GRU model upon evaluation.\n",
    "\n",
    "__Random Forest Model__\n",
    "\n",
    "```Mean squared error: 2.22```\n",
    "\n",
    "```Mean absolute error: 1.16 ```\n",
    " \n",
    "__GRU Model__\n",
    "\n",
    "```Mean squared error: 1.73```\n",
    "\n",
    "```Mean absolute error: 1.01```\n",
    "\n",
    "The GRU model is a type of recurrent neural network (RNN) specifically designed to capture sequential dependencies in data. \n",
    "\n",
    "It can effectively model temporal patterns and capture long-term dependencies in time series data. This architecture makes it more suitable for the specific time series problem worked on. Thus, allowing it to capture and leverage the underlying patterns in the data better than the Random Forest model.\n",
    "\n",
    "Also, the GRU model was compiled to minimize the mean squared error (MSE). Hence, from training it is better suited to make predictions that result in lower MSE than the random forest which only learnt the underlying patterns of the data."
   ]
  },
  {
   "cell_type": "markdown",
   "id": "ab51c70f",
   "metadata": {},
   "source": [
    "### Building Classification Models <a id=topic8></a>\n",
    "\n",
    "See [table of contents](#content)"
   ]
  },
  {
   "cell_type": "markdown",
   "id": "8d7333dd",
   "metadata": {},
   "source": [
    "#### 6- Categorize the demand rate into the following two groups: demand rates greater than the average demand rate and demand rates less than the average demand rate. Use labels 1 and 2 for the first and the second groups, respectively. \n",
    "\n",
    "Now, use three different classifiers to predict the demand rates’ labels and report the accuracy of all models. Use 30 percent of data for testing. "
   ]
  },
  {
   "cell_type": "code",
   "execution_count": 17,
   "id": "01b9829f",
   "metadata": {},
   "outputs": [
    {
     "data": {
      "text/plain": [
       "4.452725070202385"
      ]
     },
     "execution_count": 17,
     "metadata": {},
     "output_type": "execute_result"
    }
   ],
   "source": [
    "# obtain the average demad\n",
    "avg_demand = df.demand.mean()\n",
    "avg_demand"
   ]
  },
  {
   "cell_type": "code",
   "execution_count": 24,
   "id": "f9f73f9f",
   "metadata": {
    "scrolled": false
   },
   "outputs": [
    {
     "data": {
      "text/html": [
       "<div>\n",
       "<style scoped>\n",
       "    .dataframe tbody tr th:only-of-type {\n",
       "        vertical-align: middle;\n",
       "    }\n",
       "\n",
       "    .dataframe tbody tr th {\n",
       "        vertical-align: top;\n",
       "    }\n",
       "\n",
       "    .dataframe thead th {\n",
       "        text-align: right;\n",
       "    }\n",
       "</style>\n",
       "<table border=\"1\" class=\"dataframe\">\n",
       "  <thead>\n",
       "    <tr style=\"text-align: right;\">\n",
       "      <th></th>\n",
       "      <th>id</th>\n",
       "      <th>timestamp</th>\n",
       "      <th>season</th>\n",
       "      <th>holiday</th>\n",
       "      <th>workingday</th>\n",
       "      <th>humidity</th>\n",
       "      <th>windspeed</th>\n",
       "      <th>demand</th>\n",
       "      <th>temp_category</th>\n",
       "      <th>weather_code</th>\n",
       "      <th>demand_class</th>\n",
       "    </tr>\n",
       "  </thead>\n",
       "  <tbody>\n",
       "    <tr>\n",
       "      <th>0</th>\n",
       "      <td>1</td>\n",
       "      <td>2017-01-01 00:00:00</td>\n",
       "      <td>spring</td>\n",
       "      <td>No</td>\n",
       "      <td>No</td>\n",
       "      <td>81.0</td>\n",
       "      <td>0.0</td>\n",
       "      <td>2.772589</td>\n",
       "      <td>Mild</td>\n",
       "      <td>1</td>\n",
       "      <td>2</td>\n",
       "    </tr>\n",
       "    <tr>\n",
       "      <th>1</th>\n",
       "      <td>2</td>\n",
       "      <td>2017-01-01 01:00:00</td>\n",
       "      <td>spring</td>\n",
       "      <td>No</td>\n",
       "      <td>No</td>\n",
       "      <td>80.0</td>\n",
       "      <td>0.0</td>\n",
       "      <td>3.688879</td>\n",
       "      <td>Mild</td>\n",
       "      <td>1</td>\n",
       "      <td>2</td>\n",
       "    </tr>\n",
       "    <tr>\n",
       "      <th>2</th>\n",
       "      <td>3</td>\n",
       "      <td>2017-01-01 02:00:00</td>\n",
       "      <td>spring</td>\n",
       "      <td>No</td>\n",
       "      <td>No</td>\n",
       "      <td>80.0</td>\n",
       "      <td>0.0</td>\n",
       "      <td>3.465736</td>\n",
       "      <td>Mild</td>\n",
       "      <td>1</td>\n",
       "      <td>2</td>\n",
       "    </tr>\n",
       "    <tr>\n",
       "      <th>3</th>\n",
       "      <td>4</td>\n",
       "      <td>2017-01-01 03:00:00</td>\n",
       "      <td>spring</td>\n",
       "      <td>No</td>\n",
       "      <td>No</td>\n",
       "      <td>75.0</td>\n",
       "      <td>0.0</td>\n",
       "      <td>2.564949</td>\n",
       "      <td>Mild</td>\n",
       "      <td>1</td>\n",
       "      <td>2</td>\n",
       "    </tr>\n",
       "    <tr>\n",
       "      <th>4</th>\n",
       "      <td>5</td>\n",
       "      <td>2017-01-01 04:00:00</td>\n",
       "      <td>spring</td>\n",
       "      <td>No</td>\n",
       "      <td>No</td>\n",
       "      <td>75.0</td>\n",
       "      <td>0.0</td>\n",
       "      <td>0.000000</td>\n",
       "      <td>Mild</td>\n",
       "      <td>1</td>\n",
       "      <td>2</td>\n",
       "    </tr>\n",
       "  </tbody>\n",
       "</table>\n",
       "</div>"
      ],
      "text/plain": [
       "   id           timestamp  season holiday workingday  humidity  windspeed  \\\n",
       "0   1 2017-01-01 00:00:00  spring      No         No      81.0        0.0   \n",
       "1   2 2017-01-01 01:00:00  spring      No         No      80.0        0.0   \n",
       "2   3 2017-01-01 02:00:00  spring      No         No      80.0        0.0   \n",
       "3   4 2017-01-01 03:00:00  spring      No         No      75.0        0.0   \n",
       "4   5 2017-01-01 04:00:00  spring      No         No      75.0        0.0   \n",
       "\n",
       "     demand temp_category weather_code demand_class  \n",
       "0  2.772589          Mild            1            2  \n",
       "1  3.688879          Mild            1            2  \n",
       "2  3.465736          Mild            1            2  \n",
       "3  2.564949          Mild            1            2  \n",
       "4  0.000000          Mild            1            2  "
      ]
     },
     "execution_count": 24,
     "metadata": {},
     "output_type": "execute_result"
    }
   ],
   "source": [
    "# set group labels for each group to the df\n",
    "label_dict = {1:'1', 0:'2'}\n",
    "df['demand_class'] = (df.demand>avg_demand).astype(int).replace(label_dict)\n",
    "df.head()"
   ]
  },
  {
   "cell_type": "code",
   "execution_count": 34,
   "id": "c7ff2979",
   "metadata": {},
   "outputs": [
    {
     "name": "stdout",
     "output_type": "stream",
     "text": [
      "y_train: (6095,)\n",
      "y_test: (2613,)\n"
     ]
    }
   ],
   "source": [
    "# create new categorical target set for classification\n",
    "y_train = df.demand_class.values[:train_size]\n",
    "y_test = df.demand_class.values[train_size:]\n",
    "\n",
    "print('y_train: {}'.format(y_train.shape))\n",
    "print('y_test: {}'.format(y_test.shape))"
   ]
  },
  {
   "cell_type": "code",
   "execution_count": 36,
   "id": "3ff03674",
   "metadata": {},
   "outputs": [
    {
     "data": {
      "text/plain": [
       "array(['2', '2', '2', ..., '2', '2', '2'], dtype=object)"
      ]
     },
     "execution_count": 36,
     "metadata": {},
     "output_type": "execute_result"
    }
   ],
   "source": [
    "y_train"
   ]
  },
  {
   "cell_type": "code",
   "execution_count": 25,
   "id": "0409451a",
   "metadata": {},
   "outputs": [],
   "source": [
    "from sklearn.ensemble import RandomForestClassifier\n",
    "from sklearn.linear_model import LogisticRegression\n",
    "from sklearn.svm import SVC\n",
    "\n",
    "from sklearn.metrics import accuracy_score"
   ]
  },
  {
   "cell_type": "code",
   "execution_count": 54,
   "id": "3e976b93",
   "metadata": {},
   "outputs": [
    {
     "data": {
      "text/plain": [
       "array(['2', '2', '1', ..., '1', '1', '1'], dtype=object)"
      ]
     },
     "execution_count": 54,
     "metadata": {},
     "output_type": "execute_result"
    }
   ],
   "source": [
    "# instantiate RandomForestClassifier model\n",
    "forest_model = RandomForestClassifier(criterion='entropy')\n",
    "\n",
    "forest_model.fit(X_train, y_train)\n",
    "\n",
    "# make predictions with the Random forest classifier\n",
    "forest_preds = forest_model.predict(X_test)\n",
    "forest_preds"
   ]
  },
  {
   "cell_type": "code",
   "execution_count": 52,
   "id": "7c9d1256",
   "metadata": {},
   "outputs": [
    {
     "data": {
      "text/plain": [
       "array(['2', '2', '2', ..., '1', '1', '1'], dtype=object)"
      ]
     },
     "execution_count": 52,
     "metadata": {},
     "output_type": "execute_result"
    }
   ],
   "source": [
    "# instantiate logistic regression model\n",
    "log_model = LogisticRegression(solver='liblinear', C=0.01)\n",
    "\n",
    "# fit the model\n",
    "log_model.fit(X_train, y_train)\n",
    "\n",
    "# make predictions with the Logistic regression model\n",
    "log_preds = log_model.predict(X_test)\n",
    "log_preds"
   ]
  },
  {
   "cell_type": "code",
   "execution_count": 53,
   "id": "ac23d712",
   "metadata": {},
   "outputs": [
    {
     "data": {
      "text/plain": [
       "array(['1', '2', '2', ..., '1', '1', '1'], dtype=object)"
      ]
     },
     "execution_count": 53,
     "metadata": {},
     "output_type": "execute_result"
    }
   ],
   "source": [
    "# instantiate support vector machine model\n",
    "svm_model = SVC(kernel='linear')\n",
    "\n",
    "svm_model.fit(X_train, y_train)\n",
    "\n",
    "# make predictions with SVC\n",
    "svc_preds = svm_model.predict(X_test)\n",
    "svc_preds"
   ]
  },
  {
   "cell_type": "markdown",
   "id": "47b8a318",
   "metadata": {},
   "source": [
    "#### Evaluate Classification models"
   ]
  },
  {
   "cell_type": "code",
   "execution_count": 55,
   "id": "189d668d",
   "metadata": {},
   "outputs": [
    {
     "name": "stdout",
     "output_type": "stream",
     "text": [
      " Accuracy of Random Forest Classifier: 0.676\n",
      "\n",
      " Accuracy of Logistic Regression Model: 0.734\n",
      "\n",
      " Accuracy of SVC: 0.736\n"
     ]
    }
   ],
   "source": [
    "# print accuracy scores for the models used\n",
    "print(f' Accuracy of Random Forest Classifier: {accuracy_score(y_test, forest_preds).round(3)}')\n",
    "print()\n",
    "print(f' Accuracy of Logistic Regression Model: {accuracy_score(y_test, log_preds).round(3)}')\n",
    "print()\n",
    "print(f' Accuracy of SVC: {accuracy_score(y_test, svc_preds).round(3)}')"
   ]
  },
  {
   "cell_type": "markdown",
   "id": "c021835e",
   "metadata": {},
   "source": [
    "### Building Unsupervised Models <a id=topic9></a>\n",
    "\n",
    "See [table of contents](#content)"
   ]
  },
  {
   "cell_type": "markdown",
   "id": "9fb60b5f",
   "metadata": {},
   "source": [
    "#### 7- Assume k is the number of clusters. Set k=2, 3, 4, and 12 and use 2 methods to cluster the temp data in 2017. Which k gives the most uniform clusters? (Clusters are called uniform when the number of samples falling into each cluster is close)"
   ]
  },
  {
   "cell_type": "code",
   "execution_count": 48,
   "id": "aaea95af",
   "metadata": {},
   "outputs": [],
   "source": [
    "# import clustering libraries\n",
    "\n",
    "import matplotlib.pyplot as plt\n",
    "from sklearn.cluster import KMeans\n",
    "from tslearn.clustering import TimeSeriesKMeans"
   ]
  },
  {
   "cell_type": "code",
   "execution_count": 10,
   "id": "50f66c8a",
   "metadata": {
    "scrolled": true
   },
   "outputs": [
    {
     "data": {
      "text/html": [
       "<div>\n",
       "<style scoped>\n",
       "    .dataframe tbody tr th:only-of-type {\n",
       "        vertical-align: middle;\n",
       "    }\n",
       "\n",
       "    .dataframe tbody tr th {\n",
       "        vertical-align: top;\n",
       "    }\n",
       "\n",
       "    .dataframe thead th {\n",
       "        text-align: right;\n",
       "    }\n",
       "</style>\n",
       "<table border=\"1\" class=\"dataframe\">\n",
       "  <thead>\n",
       "    <tr style=\"text-align: right;\">\n",
       "      <th></th>\n",
       "      <th>season</th>\n",
       "      <th>humidity</th>\n",
       "      <th>windspeed</th>\n",
       "      <th>temp_category</th>\n",
       "      <th>weather_code</th>\n",
       "    </tr>\n",
       "  </thead>\n",
       "  <tbody>\n",
       "    <tr>\n",
       "      <th>0</th>\n",
       "      <td>spring</td>\n",
       "      <td>81.0</td>\n",
       "      <td>0.0</td>\n",
       "      <td>Mild</td>\n",
       "      <td>1</td>\n",
       "    </tr>\n",
       "    <tr>\n",
       "      <th>1</th>\n",
       "      <td>spring</td>\n",
       "      <td>80.0</td>\n",
       "      <td>0.0</td>\n",
       "      <td>Mild</td>\n",
       "      <td>1</td>\n",
       "    </tr>\n",
       "    <tr>\n",
       "      <th>2</th>\n",
       "      <td>spring</td>\n",
       "      <td>80.0</td>\n",
       "      <td>0.0</td>\n",
       "      <td>Mild</td>\n",
       "      <td>1</td>\n",
       "    </tr>\n",
       "    <tr>\n",
       "      <th>3</th>\n",
       "      <td>spring</td>\n",
       "      <td>75.0</td>\n",
       "      <td>0.0</td>\n",
       "      <td>Mild</td>\n",
       "      <td>1</td>\n",
       "    </tr>\n",
       "    <tr>\n",
       "      <th>4</th>\n",
       "      <td>spring</td>\n",
       "      <td>75.0</td>\n",
       "      <td>0.0</td>\n",
       "      <td>Mild</td>\n",
       "      <td>1</td>\n",
       "    </tr>\n",
       "  </tbody>\n",
       "</table>\n",
       "</div>"
      ],
      "text/plain": [
       "   season  humidity  windspeed temp_category  weather_code\n",
       "0  spring      81.0        0.0          Mild             1\n",
       "1  spring      80.0        0.0          Mild             1\n",
       "2  spring      80.0        0.0          Mild             1\n",
       "3  spring      75.0        0.0          Mild             1\n",
       "4  spring      75.0        0.0          Mild             1"
      ]
     },
     "execution_count": 10,
     "metadata": {},
     "output_type": "execute_result"
    }
   ],
   "source": [
    "k = [2, 3, 4, 12]\n",
    "\n",
    "# extract dataframe for only the year is 2017\n",
    "df_2017 = df[df.timestamp.dt.year == 2017][predictors]\n",
    "\n",
    "# fill the null values with the mean of the columns \n",
    "\n",
    "df_2017.windspeed.fillna(df_2017.windspeed.mean(), inplace=True)\n",
    "df_2017.humidity.fillna(df_2017.humidity.mean(), inplace=True)\n",
    "\n",
    "df_2017.head()"
   ]
  },
  {
   "cell_type": "code",
   "execution_count": 11,
   "id": "9683a975",
   "metadata": {},
   "outputs": [
    {
     "data": {
      "text/plain": [
       "season           0\n",
       "humidity         0\n",
       "windspeed        0\n",
       "temp_category    0\n",
       "weather_code     0\n",
       "dtype: int64"
      ]
     },
     "execution_count": 11,
     "metadata": {},
     "output_type": "execute_result"
    }
   ],
   "source": [
    "df_2017.isna().sum()"
   ]
  },
  {
   "cell_type": "code",
   "execution_count": 12,
   "id": "3d921ec2",
   "metadata": {},
   "outputs": [
    {
     "data": {
      "text/html": [
       "<div>\n",
       "<style scoped>\n",
       "    .dataframe tbody tr th:only-of-type {\n",
       "        vertical-align: middle;\n",
       "    }\n",
       "\n",
       "    .dataframe tbody tr th {\n",
       "        vertical-align: top;\n",
       "    }\n",
       "\n",
       "    .dataframe thead th {\n",
       "        text-align: right;\n",
       "    }\n",
       "</style>\n",
       "<table border=\"1\" class=\"dataframe\">\n",
       "  <thead>\n",
       "    <tr style=\"text-align: right;\">\n",
       "      <th></th>\n",
       "      <th>humidity</th>\n",
       "      <th>windspeed</th>\n",
       "      <th>fall</th>\n",
       "      <th>spring</th>\n",
       "      <th>summer</th>\n",
       "      <th>winter</th>\n",
       "      <th>Cold</th>\n",
       "      <th>Hot</th>\n",
       "      <th>Mild</th>\n",
       "      <th>one</th>\n",
       "      <th>two</th>\n",
       "      <th>three</th>\n",
       "    </tr>\n",
       "  </thead>\n",
       "  <tbody>\n",
       "    <tr>\n",
       "      <th>0</th>\n",
       "      <td>81.0</td>\n",
       "      <td>0.0</td>\n",
       "      <td>0</td>\n",
       "      <td>1</td>\n",
       "      <td>0</td>\n",
       "      <td>0</td>\n",
       "      <td>0</td>\n",
       "      <td>0</td>\n",
       "      <td>1</td>\n",
       "      <td>1</td>\n",
       "      <td>0</td>\n",
       "      <td>0</td>\n",
       "    </tr>\n",
       "    <tr>\n",
       "      <th>1</th>\n",
       "      <td>80.0</td>\n",
       "      <td>0.0</td>\n",
       "      <td>0</td>\n",
       "      <td>1</td>\n",
       "      <td>0</td>\n",
       "      <td>0</td>\n",
       "      <td>0</td>\n",
       "      <td>0</td>\n",
       "      <td>1</td>\n",
       "      <td>1</td>\n",
       "      <td>0</td>\n",
       "      <td>0</td>\n",
       "    </tr>\n",
       "    <tr>\n",
       "      <th>2</th>\n",
       "      <td>80.0</td>\n",
       "      <td>0.0</td>\n",
       "      <td>0</td>\n",
       "      <td>1</td>\n",
       "      <td>0</td>\n",
       "      <td>0</td>\n",
       "      <td>0</td>\n",
       "      <td>0</td>\n",
       "      <td>1</td>\n",
       "      <td>1</td>\n",
       "      <td>0</td>\n",
       "      <td>0</td>\n",
       "    </tr>\n",
       "    <tr>\n",
       "      <th>3</th>\n",
       "      <td>75.0</td>\n",
       "      <td>0.0</td>\n",
       "      <td>0</td>\n",
       "      <td>1</td>\n",
       "      <td>0</td>\n",
       "      <td>0</td>\n",
       "      <td>0</td>\n",
       "      <td>0</td>\n",
       "      <td>1</td>\n",
       "      <td>1</td>\n",
       "      <td>0</td>\n",
       "      <td>0</td>\n",
       "    </tr>\n",
       "    <tr>\n",
       "      <th>4</th>\n",
       "      <td>75.0</td>\n",
       "      <td>0.0</td>\n",
       "      <td>0</td>\n",
       "      <td>1</td>\n",
       "      <td>0</td>\n",
       "      <td>0</td>\n",
       "      <td>0</td>\n",
       "      <td>0</td>\n",
       "      <td>1</td>\n",
       "      <td>1</td>\n",
       "      <td>0</td>\n",
       "      <td>0</td>\n",
       "    </tr>\n",
       "  </tbody>\n",
       "</table>\n",
       "</div>"
      ],
      "text/plain": [
       "   humidity  windspeed  fall  spring  summer  winter  Cold  Hot  Mild  one  \\\n",
       "0      81.0        0.0     0       1       0       0     0    0     1    1   \n",
       "1      80.0        0.0     0       1       0       0     0    0     1    1   \n",
       "2      80.0        0.0     0       1       0       0     0    0     1    1   \n",
       "3      75.0        0.0     0       1       0       0     0    0     1    1   \n",
       "4      75.0        0.0     0       1       0       0     0    0     1    1   \n",
       "\n",
       "   two  three  \n",
       "0    0      0  \n",
       "1    0      0  \n",
       "2    0      0  \n",
       "3    0      0  \n",
       "4    0      0  "
      ]
     },
     "execution_count": 12,
     "metadata": {},
     "output_type": "execute_result"
    }
   ],
   "source": [
    "obj_column = ['season', 'temp_category', 'weather_code']\n",
    "\n",
    "# loop through the list to get dummies for each column\n",
    "for item in obj_column:\n",
    "    X_new = pd.get_dummies(df_2017[item])\n",
    "    df_2017 = pd.concat([df_2017, X_new], axis=1)\n",
    "\n",
    "df_2017 = df_2017.drop(columns=obj_column)\n",
    "df_2017.rename(columns = {1:'one', 2:'two', 3:'three', 4:'four'}, inplace=True)\n",
    "df_2017.head()"
   ]
  },
  {
   "cell_type": "code",
   "execution_count": 13,
   "id": "f455de8f",
   "metadata": {},
   "outputs": [],
   "source": [
    "# convert the dataframe to an array for the models\n",
    "train_data_2017 = df_2017.values"
   ]
  },
  {
   "cell_type": "code",
   "execution_count": 14,
   "id": "9767e027",
   "metadata": {
    "scrolled": true
   },
   "outputs": [
    {
     "data": {
      "text/plain": [
       "(5422, 12)"
      ]
     },
     "execution_count": 14,
     "metadata": {},
     "output_type": "execute_result"
    }
   ],
   "source": [
    "train_data_2017.shape"
   ]
  },
  {
   "cell_type": "markdown",
   "id": "3d4701d3",
   "metadata": {},
   "source": [
    "#### Clustering with KMeans algorithm"
   ]
  },
  {
   "cell_type": "code",
   "execution_count": 41,
   "id": "91eaefeb",
   "metadata": {},
   "outputs": [],
   "source": [
    "k = [2, 3, 4, 12]\n",
    "\n",
    "kmeans_labels = pd.DataFrame()\n",
    "\n",
    "# loop through the values of k implement the k means model\n",
    "for num in k:\n",
    "#     implement kmeans model\n",
    "    kmeans_model = KMeans(n_clusters=num)\n",
    "    kmeans_model = kmeans_model.fit_predict(train_data_2017)\n",
    "    kmeans_labels['labels_'+str(num)] = kmeans_model.labels_"
   ]
  },
  {
   "cell_type": "code",
   "execution_count": 39,
   "id": "34df7527",
   "metadata": {},
   "outputs": [],
   "source": [
    "def plotbars(df):\n",
    "    '''creates a countplot for column names in the dataframe (input) corresponding to various values of k'''\n",
    "    for num in k:\n",
    "        print(f'plot for labels_{str(num)}')\n",
    "        sns.countplot(data=df, x='labels_'+str(num))\n",
    "        plt.show()"
   ]
  },
  {
   "cell_type": "code",
   "execution_count": 42,
   "id": "7b907ae1",
   "metadata": {},
   "outputs": [
    {
     "data": {
      "text/html": [
       "<div>\n",
       "<style scoped>\n",
       "    .dataframe tbody tr th:only-of-type {\n",
       "        vertical-align: middle;\n",
       "    }\n",
       "\n",
       "    .dataframe tbody tr th {\n",
       "        vertical-align: top;\n",
       "    }\n",
       "\n",
       "    .dataframe thead th {\n",
       "        text-align: right;\n",
       "    }\n",
       "</style>\n",
       "<table border=\"1\" class=\"dataframe\">\n",
       "  <thead>\n",
       "    <tr style=\"text-align: right;\">\n",
       "      <th></th>\n",
       "      <th>labels_2</th>\n",
       "      <th>labels_3</th>\n",
       "      <th>labels_4</th>\n",
       "      <th>labels_12</th>\n",
       "    </tr>\n",
       "  </thead>\n",
       "  <tbody>\n",
       "    <tr>\n",
       "      <th>0</th>\n",
       "      <td>1</td>\n",
       "      <td>1</td>\n",
       "      <td>3</td>\n",
       "      <td>5</td>\n",
       "    </tr>\n",
       "    <tr>\n",
       "      <th>1</th>\n",
       "      <td>1</td>\n",
       "      <td>1</td>\n",
       "      <td>3</td>\n",
       "      <td>5</td>\n",
       "    </tr>\n",
       "    <tr>\n",
       "      <th>2</th>\n",
       "      <td>1</td>\n",
       "      <td>1</td>\n",
       "      <td>3</td>\n",
       "      <td>5</td>\n",
       "    </tr>\n",
       "    <tr>\n",
       "      <th>3</th>\n",
       "      <td>1</td>\n",
       "      <td>1</td>\n",
       "      <td>1</td>\n",
       "      <td>5</td>\n",
       "    </tr>\n",
       "    <tr>\n",
       "      <th>4</th>\n",
       "      <td>1</td>\n",
       "      <td>1</td>\n",
       "      <td>1</td>\n",
       "      <td>5</td>\n",
       "    </tr>\n",
       "  </tbody>\n",
       "</table>\n",
       "</div>"
      ],
      "text/plain": [
       "   labels_2  labels_3  labels_4  labels_12\n",
       "0         1         1         3          5\n",
       "1         1         1         3          5\n",
       "2         1         1         3          5\n",
       "3         1         1         1          5\n",
       "4         1         1         1          5"
      ]
     },
     "execution_count": 42,
     "metadata": {},
     "output_type": "execute_result"
    }
   ],
   "source": [
    "kmeans_labels.head()"
   ]
  },
  {
   "cell_type": "code",
   "execution_count": 65,
   "id": "a2068e66",
   "metadata": {},
   "outputs": [
    {
     "name": "stdout",
     "output_type": "stream",
     "text": [
      "plot for labels_2\n"
     ]
    },
    {
     "data": {
      "image/png": "[encoded data removed]",
      "text/plain": [
       "<Figure size 640x480 with 1 Axes>"
      ]
     },
     "metadata": {},
     "output_type": "display_data"
    },
    {
     "name": "stdout",
     "output_type": "stream",
     "text": [
      "plot for labels_3\n"
     ]
    },
    {
     "data": {
      "image/png": "[encoded data removed]",
      "text/plain": [
       "<Figure size 640x480 with 1 Axes>"
      ]
     },
     "metadata": {},
     "output_type": "display_data"
    },
    {
     "name": "stdout",
     "output_type": "stream",
     "text": [
      "plot for labels_4\n"
     ]
    },
    {
     "data": {
      "image/png": "[encoded data removed]",
      "text/plain": [
       "<Figure size 640x480 with 1 Axes>"
      ]
     },
     "metadata": {},
     "output_type": "display_data"
    },
    {
     "name": "stdout",
     "output_type": "stream",
     "text": [
      "plot for labels_12\n"
     ]
    },
    {
     "data": {
      "image/png": "[encoded data removed]",
      "text/plain": [
       "<Figure size 640x480 with 1 Axes>"
      ]
     },
     "metadata": {},
     "output_type": "display_data"
    }
   ],
   "source": [
    "# inspect uniformity of kmeans clusters using a visualization\n",
    "\n",
    "plotbars(kmeans_labels)"
   ]
  },
  {
   "cell_type": "markdown",
   "id": "62aab97b",
   "metadata": {},
   "source": [
    "#### Clustering with tslearn "
   ]
  },
  {
   "cell_type": "code",
   "execution_count": 36,
   "id": "265cf0df",
   "metadata": {},
   "outputs": [],
   "source": [
    "tslearn_labels = pd.DataFrame()\n",
    "\n",
    "# loop through the values of k implement the k means model\n",
    "for num in k:\n",
    "    tslearn_model = TimeSeriesKMeans(n_clusters=num, metric='dtw')\n",
    "    tslearn_model = tslearn_model.fit(train_data_2017)\n",
    "    tslearn_labels['labels_'+str(num)] = tslearn_model.labels_"
   ]
  },
  {
   "cell_type": "code",
   "execution_count": 37,
   "id": "28b074bb",
   "metadata": {},
   "outputs": [
    {
     "data": {
      "text/html": [
       "<div>\n",
       "<style scoped>\n",
       "    .dataframe tbody tr th:only-of-type {\n",
       "        vertical-align: middle;\n",
       "    }\n",
       "\n",
       "    .dataframe tbody tr th {\n",
       "        vertical-align: top;\n",
       "    }\n",
       "\n",
       "    .dataframe thead th {\n",
       "        text-align: right;\n",
       "    }\n",
       "</style>\n",
       "<table border=\"1\" class=\"dataframe\">\n",
       "  <thead>\n",
       "    <tr style=\"text-align: right;\">\n",
       "      <th></th>\n",
       "      <th>labels_2</th>\n",
       "      <th>labels_3</th>\n",
       "      <th>labels_4</th>\n",
       "      <th>labels_12</th>\n",
       "    </tr>\n",
       "  </thead>\n",
       "  <tbody>\n",
       "    <tr>\n",
       "      <th>0</th>\n",
       "      <td>1</td>\n",
       "      <td>0</td>\n",
       "      <td>1</td>\n",
       "      <td>9</td>\n",
       "    </tr>\n",
       "    <tr>\n",
       "      <th>1</th>\n",
       "      <td>1</td>\n",
       "      <td>0</td>\n",
       "      <td>1</td>\n",
       "      <td>9</td>\n",
       "    </tr>\n",
       "    <tr>\n",
       "      <th>2</th>\n",
       "      <td>1</td>\n",
       "      <td>0</td>\n",
       "      <td>1</td>\n",
       "      <td>9</td>\n",
       "    </tr>\n",
       "    <tr>\n",
       "      <th>3</th>\n",
       "      <td>1</td>\n",
       "      <td>0</td>\n",
       "      <td>3</td>\n",
       "      <td>9</td>\n",
       "    </tr>\n",
       "    <tr>\n",
       "      <th>4</th>\n",
       "      <td>1</td>\n",
       "      <td>0</td>\n",
       "      <td>3</td>\n",
       "      <td>9</td>\n",
       "    </tr>\n",
       "  </tbody>\n",
       "</table>\n",
       "</div>"
      ],
      "text/plain": [
       "   labels_2  labels_3  labels_4  labels_12\n",
       "0         1         0         1          9\n",
       "1         1         0         1          9\n",
       "2         1         0         1          9\n",
       "3         1         0         3          9\n",
       "4         1         0         3          9"
      ]
     },
     "execution_count": 37,
     "metadata": {},
     "output_type": "execute_result"
    }
   ],
   "source": [
    "tslearn_labels.head()"
   ]
  },
  {
   "cell_type": "code",
   "execution_count": 40,
   "id": "c91a8b12",
   "metadata": {},
   "outputs": [
    {
     "name": "stdout",
     "output_type": "stream",
     "text": [
      "plot for labels_2\n"
     ]
    },
    {
     "data": {
      "image/png": "[encoded data removed]",
      "text/plain": [
       "<Figure size 640x480 with 1 Axes>"
      ]
     },
     "metadata": {},
     "output_type": "display_data"
    },
    {
     "name": "stdout",
     "output_type": "stream",
     "text": [
      "plot for labels_3\n"
     ]
    },
    {
     "data": {
      "image/png": "[encoded data removed]",
      "text/plain": [
       "<Figure size 640x480 with 1 Axes>"
      ]
     },
     "metadata": {},
     "output_type": "display_data"
    },
    {
     "name": "stdout",
     "output_type": "stream",
     "text": [
      "plot for labels_4\n"
     ]
    },
    {
     "data": {
      "image/png": "[encoded data removed]",
      "text/plain": [
       "<Figure size 640x480 with 1 Axes>"
      ]
     },
     "metadata": {},
     "output_type": "display_data"
    },
    {
     "name": "stdout",
     "output_type": "stream",
     "text": [
      "plot for labels_12\n"
     ]
    },
    {
     "data": {
      "image/png": "[encoded data removed]",
      "text/plain": [
       "<Figure size 640x480 with 1 Axes>"
      ]
     },
     "metadata": {},
     "output_type": "display_data"
    }
   ],
   "source": [
    "# inspect uniformity of tslearn time series clusters using a visualization\n",
    "\n",
    "plotbars(tslearn_labels)"
   ]
  },
  {
   "cell_type": "markdown",
   "id": "cad0f21e",
   "metadata": {},
   "source": [
    "#### Inference"
   ]
  },
  {
   "cell_type": "markdown",
   "id": "d7b7b59e",
   "metadata": {},
   "source": [
    "Following the analysis, k=2 gives the most uniform clusters since the number of sample falling into each cluster is close.\n",
    "\n",
    "> k=12 give the most ununiform clusters as the number of samples in each cluster are sparsely distributed. However, k=4 seemed to closely capture intricate underying patterns in the dataset best."
   ]
  },
  {
   "cell_type": "markdown",
   "id": "9e03da3a",
   "metadata": {},
   "source": [
    "### Credits <a id=topic10></a>\n",
    "\n",
    "This poject is gotten from the below reference.\n",
    "\n",
    "Each part follows the various requirements (code prompts) to solve the problems as outlined in:\n",
    "```\n",
    " KEELE UNIVERSITY\n",
    " SCHOOL OF COMPUTING AND MATHEMATICS\n",
    " CSC-40054\n",
    " COURSEWORK ASSIGNMENT\n",
    " Data analytics and databases (2022-2023) ```"
   ]
  },
  {
   "cell_type": "markdown",
   "id": "e3bbbd99",
   "metadata": {},
   "source": [
    "[Back to top](#topic#) "
   ]
  }
 ],
 "metadata": {
  "kernelspec": {
   "display_name": "Python 3 (ipykernel)",
   "language": "python",
   "name": "python3"
  },
  "language_info": {
   "codemirror_mode": {
    "name": "ipython",
    "version": 3
   },
   "file_extension": ".py",
   "mimetype": "text/x-python",
   "name": "python",
   "nbconvert_exporter": "python",
   "pygments_lexer": "ipython3",
   "version": "3.9.13"
  }
 },
 "nbformat": 4,
 "nbformat_minor": 5
}
